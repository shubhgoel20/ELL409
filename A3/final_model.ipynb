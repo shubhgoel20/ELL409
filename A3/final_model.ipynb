{
 "cells": [
  {
   "cell_type": "code",
   "execution_count": 1,
   "metadata": {},
   "outputs": [],
   "source": [
    "import tensorflow as tf\n",
    "from tensorflow.keras.models import Sequential\n",
    "from tensorflow.keras.layers import Dense,Dropout\n",
    "from tensorflow.keras.callbacks import ModelCheckpoint,LearningRateScheduler,EarlyStopping\n",
    "from sklearn import preprocessing\n",
    "from sklearn.model_selection import train_test_split\n",
    "import numpy as np\n",
    "import pandas as pd\n",
    "import matplotlib.pyplot as plt\n",
    "from sklearn import metrics"
   ]
  },
  {
   "cell_type": "code",
   "execution_count": 2,
   "metadata": {},
   "outputs": [],
   "source": [
    "def preprocess(df):\n",
    "    data = df.values\n",
    "    X = data[:,0:10]\n",
    "    y = data[:,10]\n",
    "    #we have to scale the features to a common range\n",
    "    #we are using min-max scaler instead of standardscaler because min-max scaler preserves the distribution of the data\n",
    "    X = preprocessing.MinMaxScaler().fit_transform(X)\n",
    "    return X,y"
   ]
  },
  {
   "cell_type": "code",
   "execution_count": 3,
   "metadata": {},
   "outputs": [],
   "source": [
    "def split(X,y):\n",
    "    X_train, temp_x, y_train, temp_y = train_test_split(X, y, test_size=0.3)\n",
    "    X_val, X_test, y_val, y_test = train_test_split(temp_x, temp_y, test_size=0.5)\n",
    "    return X_train,X_val,X_test,y_train,y_val,y_test"
   ]
  },
  {
   "cell_type": "code",
   "execution_count": 4,
   "metadata": {},
   "outputs": [],
   "source": [
    "def nnetwork(n1 = 32,n2 = 32,n3 = 32,n4 = 32):\n",
    "    model = Sequential()\n",
    "    model.add(Dense(n1,activation = 'relu',input_shape = (10,))) #The weight matrix is initialised using the default initializer 'glorot_uniform'\n",
    "    model.add(Dense(n2,activation = 'relu',kernel_regularizer=tf.keras.regularizers.L2(0.01)))\n",
    "    model.add(Dense(n3,activation = 'relu',kernel_regularizer=tf.keras.regularizers.L2(0.01)))\n",
    "    model.add(Dense(n4,activation = 'relu',kernel_regularizer=tf.keras.regularizers.L2(0.01)))\n",
    "    model.add(Dense(1,activation = 'sigmoid'))\n",
    "    # model.summary()\n",
    "    return model    "
   ]
  },
  {
   "cell_type": "code",
   "execution_count": 5,
   "metadata": {},
   "outputs": [],
   "source": [
    "#This is for learning rate scheduler.\n",
    "#decay_rate is hyperparameter that we need to optimize\n",
    "#we can use different typer decays:\n",
    "# time based decay: lr = lr/(1 + decay_rate*epoch)\n",
    "# step decay: lr = lr0*drop^(floor(epoch/epoch_drop))\n",
    "#The following is exponential decay:\n",
    "def schedule(epoch,lr,decay_rate = 0.005):\n",
    "    if(epoch < 10):\n",
    "        return lr\n",
    "    # lr_new = lr*np.exp(-decay_rate*epoch)\n",
    "    lr_new = lr*np.exp(-decay_rate)\n",
    "    # lr_new = lr/(1 + decay_rate*epoch)\n",
    "    return lr_new"
   ]
  },
  {
   "cell_type": "code",
   "execution_count": 6,
   "metadata": {},
   "outputs": [],
   "source": [
    "def train(model,X_train,y_train,X_val,y_val,num_epochs = 500,batch_size = 32,lr_initial = 0.001,momentum = 0.5,patience_value = 7):\n",
    "    tf.keras.backend.clear_session()\n",
    "    callbacks = [EarlyStopping(monitor='val_acc', patience=patience_value),LearningRateScheduler(schedule)]\n",
    "    model.compile(loss='binary_crossentropy', optimizer=tf.keras.optimizers.SGD(learning_rate=lr_initial,momentum= momentum),metrics=['acc'])\n",
    "    model_history=model.fit(X_train, y_train, batch_size=batch_size, epochs=num_epochs, validation_data=(X_val, y_val),\n",
    "                        callbacks=callbacks)\n",
    "    return model,model_history"
   ]
  },
  {
   "cell_type": "code",
   "execution_count": 7,
   "metadata": {},
   "outputs": [],
   "source": [
    "df = pd.read_csv('housepricedata.csv')"
   ]
  },
  {
   "cell_type": "code",
   "execution_count": 8,
   "metadata": {},
   "outputs": [],
   "source": [
    "np.random.seed(42)"
   ]
  },
  {
   "cell_type": "code",
   "execution_count": 9,
   "metadata": {},
   "outputs": [],
   "source": [
    "X,y = preprocess(df)"
   ]
  },
  {
   "cell_type": "code",
   "execution_count": 10,
   "metadata": {},
   "outputs": [],
   "source": [
    "X_train,X_val,X_test,y_train,y_val,y_test = split(X,y)"
   ]
  },
  {
   "cell_type": "code",
   "execution_count": 11,
   "metadata": {},
   "outputs": [
    {
     "name": "stdout",
     "output_type": "stream",
     "text": [
      "(1022, 10) (219, 10) (219, 10) (1022,) (219,) (219,)\n"
     ]
    }
   ],
   "source": [
    "print(X_train.shape, X_val.shape, X_test.shape, y_train.shape, y_val.shape, y_test.shape)"
   ]
  },
  {
   "cell_type": "code",
   "execution_count": 24,
   "metadata": {},
   "outputs": [
    {
     "name": "stdout",
     "output_type": "stream",
     "text": [
      "Epoch 1/500\n",
      "32/32 [==============================] - 1s 24ms/step - loss: 1.4368 - acc: 0.6820 - val_loss: 1.4240 - val_acc: 0.7215 - lr: 0.0100\n",
      "Epoch 2/500\n",
      "32/32 [==============================] - 0s 6ms/step - loss: 1.4136 - acc: 0.7055 - val_loss: 1.4014 - val_acc: 0.7352 - lr: 0.0100\n",
      "Epoch 3/500\n",
      "32/32 [==============================] - 0s 5ms/step - loss: 1.3910 - acc: 0.7162 - val_loss: 1.3795 - val_acc: 0.6758 - lr: 0.0100\n",
      "Epoch 4/500\n",
      "32/32 [==============================] - 0s 5ms/step - loss: 1.3688 - acc: 0.7055 - val_loss: 1.3575 - val_acc: 0.7078 - lr: 0.0100\n",
      "Epoch 5/500\n",
      "32/32 [==============================] - 0s 5ms/step - loss: 1.3476 - acc: 0.7114 - val_loss: 1.3363 - val_acc: 0.7260 - lr: 0.0100\n",
      "Epoch 6/500\n",
      "32/32 [==============================] - 0s 6ms/step - loss: 1.3266 - acc: 0.7309 - val_loss: 1.3150 - val_acc: 0.7580 - lr: 0.0100\n",
      "Epoch 7/500\n",
      "32/32 [==============================] - 0s 6ms/step - loss: 1.3057 - acc: 0.7446 - val_loss: 1.2935 - val_acc: 0.7808 - lr: 0.0100\n",
      "Epoch 8/500\n",
      "32/32 [==============================] - 0s 5ms/step - loss: 1.2851 - acc: 0.7603 - val_loss: 1.2721 - val_acc: 0.7808 - lr: 0.0100\n",
      "Epoch 9/500\n",
      "32/32 [==============================] - 0s 5ms/step - loss: 1.2638 - acc: 0.7661 - val_loss: 1.2502 - val_acc: 0.7854 - lr: 0.0100\n",
      "Epoch 10/500\n",
      "32/32 [==============================] - 0s 6ms/step - loss: 1.2419 - acc: 0.7710 - val_loss: 1.2287 - val_acc: 0.7854 - lr: 0.0100\n",
      "Epoch 11/500\n",
      "32/32 [==============================] - 0s 6ms/step - loss: 1.2201 - acc: 0.7740 - val_loss: 1.2054 - val_acc: 0.7854 - lr: 0.0100\n",
      "Epoch 12/500\n",
      "32/32 [==============================] - 0s 5ms/step - loss: 1.1970 - acc: 0.7779 - val_loss: 1.1814 - val_acc: 0.7854 - lr: 0.0099\n",
      "Epoch 13/500\n",
      "32/32 [==============================] - 0s 5ms/step - loss: 1.1732 - acc: 0.7769 - val_loss: 1.1561 - val_acc: 0.7808 - lr: 0.0099\n",
      "Epoch 14/500\n",
      "32/32 [==============================] - 0s 5ms/step - loss: 1.1482 - acc: 0.7828 - val_loss: 1.1301 - val_acc: 0.7808 - lr: 0.0098\n",
      "Epoch 15/500\n",
      "32/32 [==============================] - 0s 5ms/step - loss: 1.1229 - acc: 0.7857 - val_loss: 1.1029 - val_acc: 0.8082 - lr: 0.0098\n",
      "Epoch 16/500\n",
      "32/32 [==============================] - 0s 5ms/step - loss: 1.0967 - acc: 0.7926 - val_loss: 1.0756 - val_acc: 0.8037 - lr: 0.0097\n",
      "Epoch 17/500\n",
      "32/32 [==============================] - 0s 6ms/step - loss: 1.0695 - acc: 0.7926 - val_loss: 1.0484 - val_acc: 0.7945 - lr: 0.0097\n",
      "Epoch 18/500\n",
      "32/32 [==============================] - 0s 6ms/step - loss: 1.0426 - acc: 0.8014 - val_loss: 1.0184 - val_acc: 0.8128 - lr: 0.0096\n",
      "Epoch 19/500\n",
      "32/32 [==============================] - 0s 5ms/step - loss: 1.0145 - acc: 0.8092 - val_loss: 0.9901 - val_acc: 0.8311 - lr: 0.0096\n",
      "Epoch 20/500\n",
      "32/32 [==============================] - 0s 5ms/step - loss: 0.9864 - acc: 0.8219 - val_loss: 0.9603 - val_acc: 0.8493 - lr: 0.0095\n",
      "Epoch 21/500\n",
      "32/32 [==============================] - 0s 5ms/step - loss: 0.9590 - acc: 0.8239 - val_loss: 0.9318 - val_acc: 0.8584 - lr: 0.0095\n",
      "Epoch 22/500\n",
      "32/32 [==============================] - 0s 6ms/step - loss: 0.9334 - acc: 0.8376 - val_loss: 0.9018 - val_acc: 0.8858 - lr: 0.0094\n",
      "Epoch 23/500\n",
      "32/32 [==============================] - 0s 5ms/step - loss: 0.9062 - acc: 0.8444 - val_loss: 0.8760 - val_acc: 0.8813 - lr: 0.0094\n",
      "Epoch 24/500\n",
      "32/32 [==============================] - 0s 5ms/step - loss: 0.8813 - acc: 0.8483 - val_loss: 0.8487 - val_acc: 0.8904 - lr: 0.0093\n",
      "Epoch 25/500\n",
      "32/32 [==============================] - 0s 5ms/step - loss: 0.8574 - acc: 0.8552 - val_loss: 0.8330 - val_acc: 0.8767 - lr: 0.0093\n",
      "Epoch 26/500\n",
      "32/32 [==============================] - 0s 5ms/step - loss: 0.8366 - acc: 0.8464 - val_loss: 0.8047 - val_acc: 0.8858 - lr: 0.0092\n",
      "Epoch 27/500\n",
      "32/32 [==============================] - 0s 5ms/step - loss: 0.8154 - acc: 0.8620 - val_loss: 0.7873 - val_acc: 0.8676 - lr: 0.0092\n",
      "Epoch 28/500\n",
      "32/32 [==============================] - 0s 5ms/step - loss: 0.8003 - acc: 0.8611 - val_loss: 0.7756 - val_acc: 0.8630 - lr: 0.0091\n",
      "Epoch 29/500\n",
      "32/32 [==============================] - 0s 5ms/step - loss: 0.7837 - acc: 0.8669 - val_loss: 0.7482 - val_acc: 0.8858 - lr: 0.0091\n",
      "Epoch 30/500\n",
      "32/32 [==============================] - 0s 5ms/step - loss: 0.7665 - acc: 0.8630 - val_loss: 0.7364 - val_acc: 0.8904 - lr: 0.0090\n",
      "Epoch 31/500\n",
      "32/32 [==============================] - 0s 5ms/step - loss: 0.7542 - acc: 0.8650 - val_loss: 0.7205 - val_acc: 0.8904 - lr: 0.0090\n",
      "Epoch 32/500\n",
      "32/32 [==============================] - 0s 5ms/step - loss: 0.7421 - acc: 0.8620 - val_loss: 0.7130 - val_acc: 0.8904 - lr: 0.0090\n",
      "Epoch 33/500\n",
      "32/32 [==============================] - 0s 5ms/step - loss: 0.7282 - acc: 0.8708 - val_loss: 0.6966 - val_acc: 0.8904 - lr: 0.0089\n",
      "Epoch 34/500\n",
      "32/32 [==============================] - 0s 5ms/step - loss: 0.7180 - acc: 0.8679 - val_loss: 0.6918 - val_acc: 0.8858 - lr: 0.0089\n",
      "Epoch 35/500\n",
      "32/32 [==============================] - 0s 5ms/step - loss: 0.7086 - acc: 0.8718 - val_loss: 0.6787 - val_acc: 0.8858 - lr: 0.0088\n",
      "Epoch 36/500\n",
      "32/32 [==============================] - 0s 5ms/step - loss: 0.6944 - acc: 0.8767 - val_loss: 0.6619 - val_acc: 0.8904 - lr: 0.0088\n",
      "Epoch 37/500\n",
      "32/32 [==============================] - 0s 5ms/step - loss: 0.6880 - acc: 0.8650 - val_loss: 0.6632 - val_acc: 0.8904 - lr: 0.0087\n",
      "Epoch 38/500\n",
      "32/32 [==============================] - 0s 5ms/step - loss: 0.6771 - acc: 0.8816 - val_loss: 0.6413 - val_acc: 0.8950 - lr: 0.0087\n",
      "Epoch 39/500\n",
      "32/32 [==============================] - 0s 5ms/step - loss: 0.6685 - acc: 0.8767 - val_loss: 0.6323 - val_acc: 0.8950 - lr: 0.0087\n",
      "Epoch 40/500\n",
      "32/32 [==============================] - 0s 5ms/step - loss: 0.6596 - acc: 0.8787 - val_loss: 0.6336 - val_acc: 0.8813 - lr: 0.0086\n",
      "Epoch 41/500\n",
      "32/32 [==============================] - 0s 5ms/step - loss: 0.6510 - acc: 0.8777 - val_loss: 0.6167 - val_acc: 0.8995 - lr: 0.0086\n",
      "Epoch 42/500\n",
      "32/32 [==============================] - 0s 5ms/step - loss: 0.6441 - acc: 0.8767 - val_loss: 0.6084 - val_acc: 0.8950 - lr: 0.0085\n",
      "Epoch 43/500\n",
      "32/32 [==============================] - 0s 5ms/step - loss: 0.6349 - acc: 0.8748 - val_loss: 0.6068 - val_acc: 0.8995 - lr: 0.0085\n",
      "Epoch 44/500\n",
      "32/32 [==============================] - 0s 5ms/step - loss: 0.6299 - acc: 0.8767 - val_loss: 0.6092 - val_acc: 0.8950 - lr: 0.0084\n",
      "Epoch 45/500\n",
      "32/32 [==============================] - 0s 5ms/step - loss: 0.6248 - acc: 0.8777 - val_loss: 0.5850 - val_acc: 0.8995 - lr: 0.0084\n",
      "Epoch 46/500\n",
      "32/32 [==============================] - 0s 5ms/step - loss: 0.6164 - acc: 0.8806 - val_loss: 0.5784 - val_acc: 0.9041 - lr: 0.0084\n",
      "Epoch 47/500\n",
      "32/32 [==============================] - 0s 5ms/step - loss: 0.6104 - acc: 0.8767 - val_loss: 0.5782 - val_acc: 0.8950 - lr: 0.0083\n",
      "Epoch 48/500\n",
      "32/32 [==============================] - 0s 5ms/step - loss: 0.6013 - acc: 0.8806 - val_loss: 0.5665 - val_acc: 0.9087 - lr: 0.0083\n",
      "Epoch 49/500\n",
      "32/32 [==============================] - 0s 5ms/step - loss: 0.5979 - acc: 0.8806 - val_loss: 0.5604 - val_acc: 0.8995 - lr: 0.0082\n",
      "Epoch 50/500\n",
      "32/32 [==============================] - 0s 5ms/step - loss: 0.5905 - acc: 0.8826 - val_loss: 0.5624 - val_acc: 0.8950 - lr: 0.0082\n",
      "Epoch 51/500\n",
      "32/32 [==============================] - 0s 5ms/step - loss: 0.5846 - acc: 0.8757 - val_loss: 0.5536 - val_acc: 0.9041 - lr: 0.0081\n",
      "Epoch 52/500\n",
      "32/32 [==============================] - 0s 5ms/step - loss: 0.5783 - acc: 0.8806 - val_loss: 0.5411 - val_acc: 0.9041 - lr: 0.0081\n",
      "Epoch 53/500\n",
      "32/32 [==============================] - 0s 5ms/step - loss: 0.5741 - acc: 0.8826 - val_loss: 0.5430 - val_acc: 0.9041 - lr: 0.0081\n",
      "Epoch 54/500\n",
      "32/32 [==============================] - 0s 5ms/step - loss: 0.5696 - acc: 0.8816 - val_loss: 0.5296 - val_acc: 0.9087 - lr: 0.0080\n",
      "Epoch 55/500\n",
      "32/32 [==============================] - 0s 5ms/step - loss: 0.5633 - acc: 0.8767 - val_loss: 0.5261 - val_acc: 0.9132 - lr: 0.0080\n",
      "Epoch 56/500\n",
      "32/32 [==============================] - 0s 5ms/step - loss: 0.5598 - acc: 0.8826 - val_loss: 0.5227 - val_acc: 0.8995 - lr: 0.0079\n",
      "Epoch 57/500\n",
      "32/32 [==============================] - 0s 5ms/step - loss: 0.5552 - acc: 0.8796 - val_loss: 0.5162 - val_acc: 0.9041 - lr: 0.0079\n",
      "Epoch 58/500\n",
      "32/32 [==============================] - 0s 5ms/step - loss: 0.5499 - acc: 0.8738 - val_loss: 0.5096 - val_acc: 0.9087 - lr: 0.0079\n",
      "Epoch 59/500\n",
      "32/32 [==============================] - 0s 5ms/step - loss: 0.5430 - acc: 0.8885 - val_loss: 0.5089 - val_acc: 0.8995 - lr: 0.0078\n",
      "Epoch 60/500\n",
      "32/32 [==============================] - 0s 5ms/step - loss: 0.5383 - acc: 0.8845 - val_loss: 0.5018 - val_acc: 0.9041 - lr: 0.0078\n",
      "Epoch 61/500\n",
      "32/32 [==============================] - 0s 5ms/step - loss: 0.5365 - acc: 0.8728 - val_loss: 0.4966 - val_acc: 0.9087 - lr: 0.0077\n",
      "Epoch 62/500\n",
      "32/32 [==============================] - 0s 5ms/step - loss: 0.5343 - acc: 0.8767 - val_loss: 0.4932 - val_acc: 0.9041 - lr: 0.0077\n",
      "Epoch 63/500\n",
      "32/32 [==============================] - 0s 5ms/step - loss: 0.5273 - acc: 0.8836 - val_loss: 0.4872 - val_acc: 0.9132 - lr: 0.0077\n",
      "Epoch 64/500\n",
      "32/32 [==============================] - 0s 5ms/step - loss: 0.5229 - acc: 0.8816 - val_loss: 0.4896 - val_acc: 0.9041 - lr: 0.0076\n",
      "Epoch 65/500\n",
      "32/32 [==============================] - 0s 6ms/step - loss: 0.5172 - acc: 0.8904 - val_loss: 0.4792 - val_acc: 0.9087 - lr: 0.0076\n",
      "Epoch 66/500\n",
      "32/32 [==============================] - 0s 5ms/step - loss: 0.5145 - acc: 0.8845 - val_loss: 0.4760 - val_acc: 0.9087 - lr: 0.0076\n",
      "Epoch 67/500\n",
      "32/32 [==============================] - 0s 5ms/step - loss: 0.5116 - acc: 0.8826 - val_loss: 0.4738 - val_acc: 0.9087 - lr: 0.0075\n",
      "Epoch 68/500\n",
      "32/32 [==============================] - 0s 5ms/step - loss: 0.5071 - acc: 0.8826 - val_loss: 0.4694 - val_acc: 0.9087 - lr: 0.0075\n",
      "Epoch 69/500\n",
      "32/32 [==============================] - 0s 5ms/step - loss: 0.5020 - acc: 0.8855 - val_loss: 0.4638 - val_acc: 0.9132 - lr: 0.0074\n",
      "Epoch 70/500\n",
      "32/32 [==============================] - 0s 5ms/step - loss: 0.4985 - acc: 0.8836 - val_loss: 0.4607 - val_acc: 0.9132 - lr: 0.0074\n",
      "Epoch 71/500\n",
      "32/32 [==============================] - 0s 5ms/step - loss: 0.4969 - acc: 0.8816 - val_loss: 0.4587 - val_acc: 0.9087 - lr: 0.0074\n",
      "Epoch 72/500\n",
      "32/32 [==============================] - 0s 5ms/step - loss: 0.4928 - acc: 0.8806 - val_loss: 0.4537 - val_acc: 0.9087 - lr: 0.0073\n",
      "Epoch 73/500\n",
      "32/32 [==============================] - 0s 5ms/step - loss: 0.4910 - acc: 0.8855 - val_loss: 0.4536 - val_acc: 0.9132 - lr: 0.0073\n",
      "Epoch 74/500\n",
      "32/32 [==============================] - 0s 5ms/step - loss: 0.4867 - acc: 0.8914 - val_loss: 0.4474 - val_acc: 0.9178 - lr: 0.0073\n",
      "Epoch 75/500\n",
      "32/32 [==============================] - 0s 5ms/step - loss: 0.4839 - acc: 0.8855 - val_loss: 0.4438 - val_acc: 0.9132 - lr: 0.0072\n",
      "Epoch 76/500\n",
      "32/32 [==============================] - 0s 5ms/step - loss: 0.4812 - acc: 0.8806 - val_loss: 0.4410 - val_acc: 0.9087 - lr: 0.0072\n",
      "Epoch 77/500\n",
      "32/32 [==============================] - 0s 5ms/step - loss: 0.4794 - acc: 0.8845 - val_loss: 0.4412 - val_acc: 0.9132 - lr: 0.0072\n",
      "Epoch 78/500\n",
      "32/32 [==============================] - 0s 5ms/step - loss: 0.4761 - acc: 0.8875 - val_loss: 0.4471 - val_acc: 0.8995 - lr: 0.0071\n",
      "Epoch 79/500\n",
      "32/32 [==============================] - 0s 5ms/step - loss: 0.4737 - acc: 0.8875 - val_loss: 0.4325 - val_acc: 0.9178 - lr: 0.0071\n",
      "Epoch 80/500\n",
      "32/32 [==============================] - 0s 5ms/step - loss: 0.4702 - acc: 0.8875 - val_loss: 0.4291 - val_acc: 0.9132 - lr: 0.0070\n",
      "Epoch 81/500\n",
      "32/32 [==============================] - 0s 5ms/step - loss: 0.4673 - acc: 0.8816 - val_loss: 0.4399 - val_acc: 0.9041 - lr: 0.0070\n",
      "Epoch 82/500\n",
      "32/32 [==============================] - 0s 5ms/step - loss: 0.4690 - acc: 0.8806 - val_loss: 0.4249 - val_acc: 0.9178 - lr: 0.0070\n",
      "Epoch 83/500\n",
      "32/32 [==============================] - 0s 5ms/step - loss: 0.4608 - acc: 0.8845 - val_loss: 0.4228 - val_acc: 0.9132 - lr: 0.0069\n",
      "Epoch 84/500\n",
      "32/32 [==============================] - 0s 5ms/step - loss: 0.4606 - acc: 0.8855 - val_loss: 0.4188 - val_acc: 0.9132 - lr: 0.0069\n",
      "Epoch 85/500\n",
      "32/32 [==============================] - 0s 5ms/step - loss: 0.4605 - acc: 0.8875 - val_loss: 0.4194 - val_acc: 0.9132 - lr: 0.0069\n",
      "Epoch 86/500\n",
      "32/32 [==============================] - 0s 5ms/step - loss: 0.4559 - acc: 0.8806 - val_loss: 0.4141 - val_acc: 0.9087 - lr: 0.0068\n",
      "Epoch 87/500\n",
      "32/32 [==============================] - 0s 5ms/step - loss: 0.4531 - acc: 0.8826 - val_loss: 0.4139 - val_acc: 0.9132 - lr: 0.0068\n",
      "Epoch 88/500\n",
      "32/32 [==============================] - 0s 5ms/step - loss: 0.4521 - acc: 0.8787 - val_loss: 0.4098 - val_acc: 0.9178 - lr: 0.0068\n",
      "Epoch 89/500\n",
      "32/32 [==============================] - 0s 5ms/step - loss: 0.4492 - acc: 0.8826 - val_loss: 0.4107 - val_acc: 0.9132 - lr: 0.0067\n",
      "Epoch 90/500\n",
      "32/32 [==============================] - 0s 5ms/step - loss: 0.4470 - acc: 0.8855 - val_loss: 0.4057 - val_acc: 0.9178 - lr: 0.0067\n",
      "Epoch 91/500\n",
      "32/32 [==============================] - 0s 5ms/step - loss: 0.4429 - acc: 0.8875 - val_loss: 0.4068 - val_acc: 0.9178 - lr: 0.0067\n",
      "Epoch 92/500\n",
      "32/32 [==============================] - 0s 5ms/step - loss: 0.4413 - acc: 0.8875 - val_loss: 0.4018 - val_acc: 0.9132 - lr: 0.0066\n",
      "Epoch 93/500\n",
      "32/32 [==============================] - 0s 5ms/step - loss: 0.4390 - acc: 0.8914 - val_loss: 0.3996 - val_acc: 0.9132 - lr: 0.0066\n",
      "Epoch 94/500\n",
      "32/32 [==============================] - 0s 5ms/step - loss: 0.4386 - acc: 0.8787 - val_loss: 0.3962 - val_acc: 0.9087 - lr: 0.0066\n",
      "Epoch 95/500\n",
      "32/32 [==============================] - 0s 5ms/step - loss: 0.4352 - acc: 0.8875 - val_loss: 0.3958 - val_acc: 0.9224 - lr: 0.0065\n",
      "Epoch 96/500\n",
      "32/32 [==============================] - 0s 5ms/step - loss: 0.4329 - acc: 0.8855 - val_loss: 0.3926 - val_acc: 0.9178 - lr: 0.0065\n",
      "Epoch 97/500\n",
      "32/32 [==============================] - 0s 5ms/step - loss: 0.4307 - acc: 0.8826 - val_loss: 0.3963 - val_acc: 0.9087 - lr: 0.0065\n",
      "Epoch 98/500\n",
      "32/32 [==============================] - 0s 5ms/step - loss: 0.4291 - acc: 0.8826 - val_loss: 0.3996 - val_acc: 0.9041 - lr: 0.0064\n",
      "Epoch 99/500\n",
      "32/32 [==============================] - 0s 5ms/step - loss: 0.4278 - acc: 0.8845 - val_loss: 0.3870 - val_acc: 0.9178 - lr: 0.0064\n",
      "Epoch 100/500\n",
      "32/32 [==============================] - 0s 5ms/step - loss: 0.4254 - acc: 0.8767 - val_loss: 0.3851 - val_acc: 0.9087 - lr: 0.0064\n",
      "Epoch 101/500\n",
      "32/32 [==============================] - 0s 5ms/step - loss: 0.4243 - acc: 0.8875 - val_loss: 0.3854 - val_acc: 0.9132 - lr: 0.0063\n",
      "Epoch 102/500\n",
      "32/32 [==============================] - 0s 5ms/step - loss: 0.4238 - acc: 0.8806 - val_loss: 0.3823 - val_acc: 0.9224 - lr: 0.0063\n",
      "Epoch 103/500\n",
      "32/32 [==============================] - 0s 5ms/step - loss: 0.4200 - acc: 0.8865 - val_loss: 0.3807 - val_acc: 0.9178 - lr: 0.0063\n",
      "Epoch 104/500\n",
      "32/32 [==============================] - 0s 5ms/step - loss: 0.4187 - acc: 0.8816 - val_loss: 0.3794 - val_acc: 0.9224 - lr: 0.0063\n",
      "Epoch 105/500\n",
      "32/32 [==============================] - 0s 5ms/step - loss: 0.4193 - acc: 0.8777 - val_loss: 0.3767 - val_acc: 0.9132 - lr: 0.0062\n",
      "Epoch 106/500\n",
      "32/32 [==============================] - 0s 5ms/step - loss: 0.4154 - acc: 0.8885 - val_loss: 0.3798 - val_acc: 0.9087 - lr: 0.0062\n",
      "Epoch 107/500\n",
      "32/32 [==============================] - 0s 6ms/step - loss: 0.4152 - acc: 0.8875 - val_loss: 0.3839 - val_acc: 0.9087 - lr: 0.0062\n",
      "Epoch 108/500\n",
      "32/32 [==============================] - 0s 5ms/step - loss: 0.4148 - acc: 0.8865 - val_loss: 0.3776 - val_acc: 0.9087 - lr: 0.0061\n",
      "Epoch 109/500\n",
      "32/32 [==============================] - 0s 5ms/step - loss: 0.4144 - acc: 0.8855 - val_loss: 0.3717 - val_acc: 0.9178 - lr: 0.0061\n",
      "Epoch 110/500\n",
      "32/32 [==============================] - 0s 5ms/step - loss: 0.4116 - acc: 0.8836 - val_loss: 0.3746 - val_acc: 0.9087 - lr: 0.0061\n",
      "Epoch 111/500\n",
      "32/32 [==============================] - 0s 5ms/step - loss: 0.4083 - acc: 0.8885 - val_loss: 0.3719 - val_acc: 0.9087 - lr: 0.0060\n",
      "Epoch 112/500\n",
      "32/32 [==============================] - 0s 5ms/step - loss: 0.4054 - acc: 0.8836 - val_loss: 0.3661 - val_acc: 0.9132 - lr: 0.0060\n",
      "Epoch 113/500\n",
      "32/32 [==============================] - 0s 5ms/step - loss: 0.4067 - acc: 0.8914 - val_loss: 0.3649 - val_acc: 0.9132 - lr: 0.0060\n",
      "Epoch 114/500\n",
      "32/32 [==============================] - 0s 5ms/step - loss: 0.4039 - acc: 0.8875 - val_loss: 0.3635 - val_acc: 0.9132 - lr: 0.0059\n",
      "Epoch 115/500\n",
      "32/32 [==============================] - 0s 5ms/step - loss: 0.4038 - acc: 0.8855 - val_loss: 0.3621 - val_acc: 0.9132 - lr: 0.0059\n",
      "Epoch 116/500\n",
      "32/32 [==============================] - 0s 5ms/step - loss: 0.4009 - acc: 0.8894 - val_loss: 0.3621 - val_acc: 0.9224 - lr: 0.0059\n",
      "Epoch 117/500\n",
      "32/32 [==============================] - 0s 5ms/step - loss: 0.4006 - acc: 0.8836 - val_loss: 0.3594 - val_acc: 0.9132 - lr: 0.0059\n",
      "Epoch 118/500\n",
      "32/32 [==============================] - 0s 5ms/step - loss: 0.4005 - acc: 0.8865 - val_loss: 0.3589 - val_acc: 0.9224 - lr: 0.0058\n",
      "Epoch 119/500\n",
      "32/32 [==============================] - 0s 5ms/step - loss: 0.3960 - acc: 0.8796 - val_loss: 0.3588 - val_acc: 0.9224 - lr: 0.0058\n",
      "Epoch 120/500\n",
      "32/32 [==============================] - 0s 5ms/step - loss: 0.3968 - acc: 0.8924 - val_loss: 0.3558 - val_acc: 0.9132 - lr: 0.0058\n",
      "Epoch 121/500\n",
      "32/32 [==============================] - 0s 5ms/step - loss: 0.3946 - acc: 0.8875 - val_loss: 0.3545 - val_acc: 0.9132 - lr: 0.0057\n",
      "Epoch 122/500\n",
      "32/32 [==============================] - 0s 5ms/step - loss: 0.3949 - acc: 0.8904 - val_loss: 0.3554 - val_acc: 0.9224 - lr: 0.0057\n",
      "Epoch 123/500\n",
      "32/32 [==============================] - 0s 5ms/step - loss: 0.3920 - acc: 0.8796 - val_loss: 0.3527 - val_acc: 0.9178 - lr: 0.0057\n",
      "Epoch 124/500\n",
      "32/32 [==============================] - 0s 5ms/step - loss: 0.3924 - acc: 0.8865 - val_loss: 0.3515 - val_acc: 0.9178 - lr: 0.0057\n",
      "Epoch 125/500\n",
      "32/32 [==============================] - 0s 5ms/step - loss: 0.3909 - acc: 0.8855 - val_loss: 0.3501 - val_acc: 0.9132 - lr: 0.0056\n",
      "Epoch 126/500\n",
      "32/32 [==============================] - 0s 5ms/step - loss: 0.3901 - acc: 0.8894 - val_loss: 0.3513 - val_acc: 0.9224 - lr: 0.0056\n",
      "Epoch 127/500\n",
      "32/32 [==============================] - 0s 5ms/step - loss: 0.3904 - acc: 0.8865 - val_loss: 0.3482 - val_acc: 0.9178 - lr: 0.0056\n",
      "Epoch 128/500\n",
      "32/32 [==============================] - 0s 5ms/step - loss: 0.3876 - acc: 0.8894 - val_loss: 0.3497 - val_acc: 0.9224 - lr: 0.0055\n",
      "Epoch 129/500\n",
      "32/32 [==============================] - 0s 5ms/step - loss: 0.3877 - acc: 0.8845 - val_loss: 0.3468 - val_acc: 0.9224 - lr: 0.0055\n",
      "Epoch 130/500\n",
      "32/32 [==============================] - 0s 5ms/step - loss: 0.3842 - acc: 0.8836 - val_loss: 0.3454 - val_acc: 0.9224 - lr: 0.0055\n"
     ]
    }
   ],
   "source": [
    "#Always run the following two line together\n",
    "model = nnetwork(16,32,32,16) \n",
    "model,model_hist = train(model,X_train,y_train,X_val,y_val,num_epochs = 500,batch_size = 32,lr_initial = 0.01,momentum = 0.5,patience_value = 35)"
   ]
  },
  {
   "cell_type": "code",
   "execution_count": 25,
   "metadata": {},
   "outputs": [
    {
     "data": {
      "image/png": "[encoded data removed]",
      "text/plain": [
       "<Figure size 432x288 with 1 Axes>"
      ]
     },
     "metadata": {
      "needs_background": "light"
     },
     "output_type": "display_data"
    }
   ],
   "source": [
    "plt.plot(model_hist.history['loss'])\n",
    "plt.plot(model_hist.history['val_loss'])\n",
    "plt.title('Model loss')\n",
    "plt.ylabel('Loss')\n",
    "plt.xlabel('Epoch')\n",
    "plt.legend(['Train', 'Val'], loc='upper right')\n",
    "# plt.savefig('part8_loss_vs_epochs.png')\n",
    "plt.show()"
   ]
  },
  {
   "cell_type": "code",
   "execution_count": 26,
   "metadata": {},
   "outputs": [
    {
     "data": {
      "image/png": "[encoded data removed]",
      "text/plain": [
       "<Figure size 432x288 with 1 Axes>"
      ]
     },
     "metadata": {
      "needs_background": "light"
     },
     "output_type": "display_data"
    }
   ],
   "source": [
    "plt.plot(model_hist.history['acc'])\n",
    "plt.plot(model_hist.history['val_acc'])\n",
    "plt.title('Model accuracy')\n",
    "plt.ylabel('Accuracy')\n",
    "plt.xlabel('Epoch')\n",
    "plt.legend(['Train', 'Val'], loc='lower right')\n",
    "# plt.savefig('part8_acc_vs_epochs.png')\n",
    "plt.show()"
   ]
  },
  {
   "cell_type": "code",
   "execution_count": 27,
   "metadata": {},
   "outputs": [
    {
     "name": "stdout",
     "output_type": "stream",
     "text": [
      "7/7 [==============================] - 0s 3ms/step - loss: 0.3153 - acc: 0.9041\n"
     ]
    },
    {
     "data": {
      "text/plain": [
       "0.9041095972061157"
      ]
     },
     "execution_count": 27,
     "metadata": {},
     "output_type": "execute_result"
    }
   ],
   "source": [
    "model.evaluate(X_test,y_test)[1]"
   ]
  },
  {
   "cell_type": "code",
   "execution_count": 34,
   "metadata": {},
   "outputs": [],
   "source": [
    "predictions = np.array([int(i>= 0.5) for i in model.predict(X_test)])"
   ]
  },
  {
   "cell_type": "code",
   "execution_count": 35,
   "metadata": {},
   "outputs": [
    {
     "data": {
      "image/png": "[encoded data removed]",
      "text/plain": [
       "<Figure size 432x288 with 2 Axes>"
      ]
     },
     "metadata": {
      "needs_background": "light"
     },
     "output_type": "display_data"
    }
   ],
   "source": [
    "actual = y_test\n",
    "confusion_matrix = metrics.confusion_matrix(actual, predictions)\n",
    "\n",
    "cm_display = metrics.ConfusionMatrixDisplay(confusion_matrix = confusion_matrix, display_labels = [False, True])\n",
    "\n",
    "cm_display.plot()\n",
    "plt.savefig('Confusion_matrix.png')"
   ]
  },
  {
   "cell_type": "code",
   "execution_count": null,
   "metadata": {},
   "outputs": [],
   "source": []
  }
 ],
 "metadata": {
  "kernelspec": {
   "display_name": "Python 3.9.0 64-bit",
   "language": "python",
   "name": "python3"
  },
  "language_info": {
   "codemirror_mode": {
    "name": "ipython",
    "version": 3
   },
   "file_extension": ".py",
   "mimetype": "text/x-python",
   "name": "python",
   "nbconvert_exporter": "python",
   "pygments_lexer": "ipython3",
   "version": "3.9.0"
  },
  "orig_nbformat": 4,
  "vscode": {
   "interpreter": {
    "hash": "8f8cf99212f81ad0c4765861267244807ee1c18364846cdce387b28994a977ba"
   }
  }
 },
 "nbformat": 4,
 "nbformat_minor": 2
}
