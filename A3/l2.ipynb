{
 "cells": [
  {
   "cell_type": "code",
   "execution_count": 1,
   "metadata": {},
   "outputs": [],
   "source": [
    "import tensorflow as tf\n",
    "from tensorflow.keras.models import Sequential\n",
    "from tensorflow.keras.layers import Dense,Dropout\n",
    "from tensorflow.keras.callbacks import ModelCheckpoint,LearningRateScheduler,EarlyStopping\n",
    "from sklearn import preprocessing\n",
    "from sklearn.model_selection import train_test_split\n",
    "import numpy as np\n",
    "import pandas as pd\n",
    "import matplotlib.pyplot as plt"
   ]
  },
  {
   "cell_type": "code",
   "execution_count": 2,
   "metadata": {},
   "outputs": [],
   "source": [
    "def preprocess(df):\n",
    "    data = df.values\n",
    "    X = data[:,0:10]\n",
    "    y = data[:,10]\n",
    "    #we have to scale the features to a common range\n",
    "    #we are using min-max scaler instead of standardscaler because min-max scaler preserves the distribution of the data\n",
    "    #Add the formula for min-max scaler in the report\n",
    "    X = preprocessing.MinMaxScaler().fit_transform(X)\n",
    "    return X,y"
   ]
  },
  {
   "cell_type": "code",
   "execution_count": 3,
   "metadata": {},
   "outputs": [],
   "source": [
    "def split(X,y):\n",
    "    X_train, temp_x, y_train, temp_y = train_test_split(X, y, test_size=0.3)\n",
    "    X_val, X_test, y_val, y_test = train_test_split(temp_x, temp_y, test_size=0.5)\n",
    "    return X_train,X_val,X_test,y_train,y_val,y_test"
   ]
  },
  {
   "cell_type": "code",
   "execution_count": 4,
   "metadata": {},
   "outputs": [],
   "source": [
    "def nnetwork(n1,n2,n3):\n",
    "    model = Sequential()\n",
    "    model.add(Dense(n1,activation = 'relu',input_shape = (10,))) #The weight matrix is initialised using the default initializer 'glorot_uniform'\n",
    "    model.add(Dense(n2,activation = 'relu',kernel_regularizer=tf.keras.regularizers.L2(0.01)))\n",
    "    model.add(Dense(n3,activation = 'relu',kernel_regularizer=tf.keras.regularizers.L2(0.01)))\n",
    "    model.add(Dense(1,activation = 'sigmoid'))\n",
    "    # model.summary()\n",
    "    return model    "
   ]
  },
  {
   "cell_type": "code",
   "execution_count": 5,
   "metadata": {},
   "outputs": [],
   "source": [
    "#This is for learning rate scheduler.\n",
    "#decay_rate is hyperparameter that we need to optimize\n",
    "#we can use different typer decays:\n",
    "# time based decay: lr = lr/(1 + decay_rate*epoch)\n",
    "# step decay: lr = lr0*drop^(floor(epoch/epoch_drop))\n",
    "#The following is exponential decay:\n",
    "def schedule(epoch,lr,decay_rate = 0.005):\n",
    "    if(epoch < 10):\n",
    "        return lr\n",
    "    # lr_new = lr*np.exp(-decay_rate*epoch)\n",
    "    lr_new = lr*np.exp(-decay_rate)\n",
    "    # lr_new = lr/(1 + decay_rate*epoch)\n",
    "    return lr_new"
   ]
  },
  {
   "cell_type": "code",
   "execution_count": 7,
   "metadata": {},
   "outputs": [],
   "source": [
    "def train(model,X_train,y_train,X_val,y_val,num_epochs = 500,batch_size = 32,lr_initial = 0.001,momentum = 0.5,patience_value = 7):\n",
    "    tf.keras.backend.clear_session()\n",
    "    callbacks = [EarlyStopping(monitor='val_acc', patience=patience_value),LearningRateScheduler(schedule)]\n",
    "    model.compile(loss='binary_crossentropy', optimizer=tf.keras.optimizers.SGD(learning_rate=lr_initial,momentum= momentum),metrics=['acc'])\n",
    "    model_history=model.fit(X_train, y_train, batch_size=batch_size, epochs=num_epochs, validation_data=(X_val, y_val),\n",
    "                        callbacks=callbacks)\n",
    "    return model,model_history"
   ]
  },
  {
   "cell_type": "code",
   "execution_count": 8,
   "metadata": {},
   "outputs": [],
   "source": [
    "df = pd.read_csv('housepricedata.csv')"
   ]
  },
  {
   "cell_type": "code",
   "execution_count": null,
   "metadata": {},
   "outputs": [],
   "source": [
    "np.random.seed(42)"
   ]
  },
  {
   "cell_type": "code",
   "execution_count": 9,
   "metadata": {},
   "outputs": [],
   "source": [
    "X,y = preprocess(df)"
   ]
  },
  {
   "cell_type": "code",
   "execution_count": 10,
   "metadata": {},
   "outputs": [],
   "source": [
    "X_train,X_val,X_test,y_train,y_val,y_test = split(X,y)"
   ]
  },
  {
   "cell_type": "code",
   "execution_count": 11,
   "metadata": {},
   "outputs": [
    {
     "name": "stdout",
     "output_type": "stream",
     "text": [
      "(1022, 10) (219, 10) (219, 10) (1022,) (219,) (219,)\n"
     ]
    }
   ],
   "source": [
    "print(X_train.shape, X_val.shape, X_test.shape, y_train.shape, y_val.shape, y_test.shape)"
   ]
  },
  {
   "cell_type": "code",
   "execution_count": 12,
   "metadata": {},
   "outputs": [
    {
     "name": "stdout",
     "output_type": "stream",
     "text": [
      "Epoch 1/500\n",
      "32/32 [==============================] - 2s 11ms/step - loss: 1.3341 - acc: 0.5117 - val_loss: 1.3260 - val_acc: 0.4795 - lr: 0.0100\n",
      "Epoch 2/500\n",
      "32/32 [==============================] - 0s 5ms/step - loss: 1.3140 - acc: 0.5127 - val_loss: 1.3064 - val_acc: 0.4840 - lr: 0.0100\n",
      "Epoch 3/500\n",
      "32/32 [==============================] - 0s 5ms/step - loss: 1.2943 - acc: 0.5235 - val_loss: 1.2870 - val_acc: 0.4977 - lr: 0.0100\n",
      "Epoch 4/500\n",
      "32/32 [==============================] - 0s 5ms/step - loss: 1.2749 - acc: 0.5352 - val_loss: 1.2677 - val_acc: 0.5205 - lr: 0.0100\n",
      "Epoch 5/500\n",
      "32/32 [==============================] - 0s 5ms/step - loss: 1.2561 - acc: 0.5646 - val_loss: 1.2483 - val_acc: 0.6210 - lr: 0.0100\n",
      "Epoch 6/500\n",
      "32/32 [==============================] - 0s 5ms/step - loss: 1.2373 - acc: 0.6526 - val_loss: 1.2293 - val_acc: 0.6530 - lr: 0.0100\n",
      "Epoch 7/500\n",
      "32/32 [==============================] - 0s 5ms/step - loss: 1.2178 - acc: 0.7016 - val_loss: 1.2095 - val_acc: 0.6712 - lr: 0.0100\n",
      "Epoch 8/500\n",
      "32/32 [==============================] - 0s 5ms/step - loss: 1.1974 - acc: 0.7358 - val_loss: 1.1886 - val_acc: 0.7215 - lr: 0.0100\n",
      "Epoch 9/500\n",
      "32/32 [==============================] - 0s 5ms/step - loss: 1.1763 - acc: 0.7466 - val_loss: 1.1668 - val_acc: 0.7808 - lr: 0.0100\n",
      "Epoch 10/500\n",
      "32/32 [==============================] - 0s 5ms/step - loss: 1.1548 - acc: 0.7828 - val_loss: 1.1453 - val_acc: 0.7626 - lr: 0.0100\n",
      "Epoch 11/500\n",
      "32/32 [==============================] - 0s 6ms/step - loss: 1.1317 - acc: 0.7877 - val_loss: 1.1215 - val_acc: 0.7991 - lr: 0.0100\n",
      "Epoch 12/500\n",
      "32/32 [==============================] - 0s 6ms/step - loss: 1.1083 - acc: 0.7994 - val_loss: 1.0970 - val_acc: 0.8128 - lr: 0.0099\n",
      "Epoch 13/500\n",
      "32/32 [==============================] - 0s 5ms/step - loss: 1.0840 - acc: 0.8033 - val_loss: 1.0713 - val_acc: 0.8219 - lr: 0.0099\n",
      "Epoch 14/500\n",
      "32/32 [==============================] - 0s 5ms/step - loss: 1.0591 - acc: 0.8219 - val_loss: 1.0457 - val_acc: 0.8311 - lr: 0.0098\n",
      "Epoch 15/500\n",
      "32/32 [==============================] - 0s 6ms/step - loss: 1.0328 - acc: 0.8229 - val_loss: 1.0181 - val_acc: 0.8356 - lr: 0.0098\n",
      "Epoch 16/500\n",
      "32/32 [==============================] - 0s 5ms/step - loss: 1.0059 - acc: 0.8356 - val_loss: 0.9902 - val_acc: 0.8493 - lr: 0.0097\n",
      "Epoch 17/500\n",
      "32/32 [==============================] - 0s 5ms/step - loss: 0.9784 - acc: 0.8405 - val_loss: 0.9633 - val_acc: 0.8356 - lr: 0.0097\n",
      "Epoch 18/500\n",
      "32/32 [==============================] - 0s 5ms/step - loss: 0.9521 - acc: 0.8356 - val_loss: 0.9330 - val_acc: 0.8584 - lr: 0.0096\n",
      "Epoch 19/500\n",
      "32/32 [==============================] - 0s 6ms/step - loss: 0.9237 - acc: 0.8474 - val_loss: 0.9062 - val_acc: 0.8676 - lr: 0.0096\n",
      "Epoch 20/500\n",
      "32/32 [==============================] - 0s 5ms/step - loss: 0.8976 - acc: 0.8464 - val_loss: 0.8775 - val_acc: 0.8767 - lr: 0.0095\n",
      "Epoch 21/500\n",
      "32/32 [==============================] - 0s 6ms/step - loss: 0.8713 - acc: 0.8523 - val_loss: 0.8515 - val_acc: 0.8858 - lr: 0.0095\n",
      "Epoch 22/500\n",
      "32/32 [==============================] - 0s 5ms/step - loss: 0.8472 - acc: 0.8474 - val_loss: 0.8265 - val_acc: 0.8767 - lr: 0.0094\n",
      "Epoch 23/500\n",
      "32/32 [==============================] - 0s 5ms/step - loss: 0.8252 - acc: 0.8542 - val_loss: 0.8032 - val_acc: 0.8767 - lr: 0.0094\n",
      "Epoch 24/500\n",
      "32/32 [==============================] - 0s 5ms/step - loss: 0.8042 - acc: 0.8562 - val_loss: 0.7820 - val_acc: 0.8813 - lr: 0.0093\n",
      "Epoch 25/500\n",
      "32/32 [==============================] - 0s 5ms/step - loss: 0.7862 - acc: 0.8552 - val_loss: 0.7627 - val_acc: 0.8858 - lr: 0.0093\n",
      "Epoch 26/500\n",
      "32/32 [==============================] - 0s 5ms/step - loss: 0.7671 - acc: 0.8620 - val_loss: 0.7435 - val_acc: 0.8676 - lr: 0.0092\n",
      "Epoch 27/500\n",
      "32/32 [==============================] - 0s 5ms/step - loss: 0.7488 - acc: 0.8650 - val_loss: 0.7335 - val_acc: 0.8767 - lr: 0.0092\n",
      "Epoch 28/500\n",
      "32/32 [==============================] - 0s 5ms/step - loss: 0.7350 - acc: 0.8630 - val_loss: 0.7122 - val_acc: 0.8813 - lr: 0.0091\n",
      "Epoch 29/500\n",
      "32/32 [==============================] - 0s 5ms/step - loss: 0.7196 - acc: 0.8620 - val_loss: 0.7056 - val_acc: 0.8721 - lr: 0.0091\n",
      "Epoch 30/500\n",
      "32/32 [==============================] - 0s 5ms/step - loss: 0.7066 - acc: 0.8650 - val_loss: 0.6849 - val_acc: 0.8767 - lr: 0.0090\n",
      "Epoch 31/500\n",
      "32/32 [==============================] - 0s 7ms/step - loss: 0.6959 - acc: 0.8728 - val_loss: 0.6719 - val_acc: 0.8767 - lr: 0.0090\n",
      "Epoch 32/500\n",
      "32/32 [==============================] - 0s 5ms/step - loss: 0.6833 - acc: 0.8679 - val_loss: 0.6597 - val_acc: 0.8721 - lr: 0.0090\n",
      "Epoch 33/500\n",
      "32/32 [==============================] - 0s 6ms/step - loss: 0.6730 - acc: 0.8757 - val_loss: 0.6522 - val_acc: 0.8721 - lr: 0.0089\n",
      "Epoch 34/500\n",
      "32/32 [==============================] - 0s 5ms/step - loss: 0.6624 - acc: 0.8699 - val_loss: 0.6360 - val_acc: 0.8904 - lr: 0.0089\n",
      "Epoch 35/500\n",
      "32/32 [==============================] - 0s 7ms/step - loss: 0.6523 - acc: 0.8699 - val_loss: 0.6261 - val_acc: 0.8904 - lr: 0.0088\n",
      "Epoch 36/500\n",
      "32/32 [==============================] - 0s 5ms/step - loss: 0.6448 - acc: 0.8708 - val_loss: 0.6165 - val_acc: 0.8950 - lr: 0.0088\n",
      "Epoch 37/500\n",
      "32/32 [==============================] - 0s 5ms/step - loss: 0.6333 - acc: 0.8748 - val_loss: 0.6171 - val_acc: 0.8721 - lr: 0.0087\n",
      "Epoch 38/500\n",
      "32/32 [==============================] - 0s 5ms/step - loss: 0.6278 - acc: 0.8669 - val_loss: 0.6052 - val_acc: 0.8721 - lr: 0.0087\n",
      "Epoch 39/500\n",
      "32/32 [==============================] - 0s 5ms/step - loss: 0.6182 - acc: 0.8708 - val_loss: 0.5908 - val_acc: 0.8950 - lr: 0.0087\n",
      "Epoch 40/500\n",
      "32/32 [==============================] - 0s 5ms/step - loss: 0.6118 - acc: 0.8699 - val_loss: 0.5845 - val_acc: 0.8858 - lr: 0.0086\n",
      "Epoch 41/500\n",
      "32/32 [==============================] - 0s 5ms/step - loss: 0.6023 - acc: 0.8767 - val_loss: 0.5751 - val_acc: 0.8950 - lr: 0.0086\n",
      "Epoch 42/500\n",
      "32/32 [==============================] - 0s 5ms/step - loss: 0.5973 - acc: 0.8708 - val_loss: 0.5685 - val_acc: 0.8950 - lr: 0.0085\n",
      "Epoch 43/500\n",
      "32/32 [==============================] - 0s 5ms/step - loss: 0.5912 - acc: 0.8738 - val_loss: 0.5608 - val_acc: 0.8950 - lr: 0.0085\n",
      "Epoch 44/500\n",
      "32/32 [==============================] - 0s 5ms/step - loss: 0.5829 - acc: 0.8738 - val_loss: 0.5556 - val_acc: 0.8858 - lr: 0.0084\n",
      "Epoch 45/500\n",
      "32/32 [==============================] - 0s 5ms/step - loss: 0.5758 - acc: 0.8787 - val_loss: 0.5490 - val_acc: 0.9041 - lr: 0.0084\n",
      "Epoch 46/500\n",
      "32/32 [==============================] - 0s 5ms/step - loss: 0.5704 - acc: 0.8738 - val_loss: 0.5406 - val_acc: 0.8995 - lr: 0.0084\n",
      "Epoch 47/500\n",
      "32/32 [==============================] - 0s 5ms/step - loss: 0.5658 - acc: 0.8767 - val_loss: 0.5346 - val_acc: 0.8995 - lr: 0.0083\n",
      "Epoch 48/500\n",
      "32/32 [==============================] - 0s 5ms/step - loss: 0.5587 - acc: 0.8767 - val_loss: 0.5344 - val_acc: 0.8813 - lr: 0.0083\n",
      "Epoch 49/500\n",
      "32/32 [==============================] - 0s 5ms/step - loss: 0.5532 - acc: 0.8718 - val_loss: 0.5254 - val_acc: 0.8858 - lr: 0.0082\n",
      "Epoch 50/500\n",
      "32/32 [==============================] - 0s 5ms/step - loss: 0.5492 - acc: 0.8718 - val_loss: 0.5173 - val_acc: 0.9041 - lr: 0.0082\n",
      "Epoch 51/500\n",
      "32/32 [==============================] - 0s 5ms/step - loss: 0.5436 - acc: 0.8767 - val_loss: 0.5117 - val_acc: 0.9041 - lr: 0.0081\n",
      "Epoch 52/500\n",
      "32/32 [==============================] - 0s 5ms/step - loss: 0.5378 - acc: 0.8796 - val_loss: 0.5073 - val_acc: 0.8950 - lr: 0.0081\n",
      "Epoch 53/500\n",
      "32/32 [==============================] - 0s 5ms/step - loss: 0.5326 - acc: 0.8816 - val_loss: 0.5015 - val_acc: 0.9041 - lr: 0.0081\n",
      "Epoch 54/500\n",
      "32/32 [==============================] - 0s 5ms/step - loss: 0.5284 - acc: 0.8767 - val_loss: 0.4964 - val_acc: 0.9087 - lr: 0.0080\n",
      "Epoch 55/500\n",
      "32/32 [==============================] - 0s 5ms/step - loss: 0.5241 - acc: 0.8806 - val_loss: 0.4919 - val_acc: 0.9041 - lr: 0.0080\n",
      "Epoch 56/500\n",
      "32/32 [==============================] - 0s 5ms/step - loss: 0.5183 - acc: 0.8796 - val_loss: 0.4870 - val_acc: 0.9041 - lr: 0.0079\n",
      "Epoch 57/500\n",
      "32/32 [==============================] - 0s 5ms/step - loss: 0.5138 - acc: 0.8738 - val_loss: 0.4852 - val_acc: 0.8995 - lr: 0.0079\n",
      "Epoch 58/500\n",
      "32/32 [==============================] - 0s 5ms/step - loss: 0.5103 - acc: 0.8806 - val_loss: 0.4789 - val_acc: 0.9041 - lr: 0.0079\n",
      "Epoch 59/500\n",
      "32/32 [==============================] - 0s 5ms/step - loss: 0.5078 - acc: 0.8787 - val_loss: 0.4730 - val_acc: 0.9041 - lr: 0.0078\n",
      "Epoch 60/500\n",
      "32/32 [==============================] - 0s 5ms/step - loss: 0.5013 - acc: 0.8806 - val_loss: 0.4708 - val_acc: 0.9041 - lr: 0.0078\n",
      "Epoch 61/500\n",
      "32/32 [==============================] - 0s 5ms/step - loss: 0.4992 - acc: 0.8816 - val_loss: 0.4649 - val_acc: 0.9087 - lr: 0.0077\n",
      "Epoch 62/500\n",
      "32/32 [==============================] - 0s 5ms/step - loss: 0.4944 - acc: 0.8826 - val_loss: 0.4607 - val_acc: 0.9087 - lr: 0.0077\n",
      "Epoch 63/500\n",
      "32/32 [==============================] - 0s 5ms/step - loss: 0.4903 - acc: 0.8796 - val_loss: 0.4592 - val_acc: 0.9041 - lr: 0.0077\n",
      "Epoch 64/500\n",
      "32/32 [==============================] - 0s 5ms/step - loss: 0.4864 - acc: 0.8738 - val_loss: 0.4587 - val_acc: 0.8995 - lr: 0.0076\n",
      "Epoch 65/500\n",
      "32/32 [==============================] - 0s 5ms/step - loss: 0.4825 - acc: 0.8836 - val_loss: 0.4497 - val_acc: 0.9087 - lr: 0.0076\n",
      "Epoch 66/500\n",
      "32/32 [==============================] - 0s 5ms/step - loss: 0.4810 - acc: 0.8777 - val_loss: 0.4467 - val_acc: 0.9087 - lr: 0.0076\n",
      "Epoch 67/500\n",
      "32/32 [==============================] - 0s 5ms/step - loss: 0.4741 - acc: 0.8836 - val_loss: 0.4532 - val_acc: 0.8950 - lr: 0.0075\n",
      "Epoch 68/500\n",
      "32/32 [==============================] - 0s 5ms/step - loss: 0.4742 - acc: 0.8796 - val_loss: 0.4386 - val_acc: 0.9087 - lr: 0.0075\n",
      "Epoch 69/500\n",
      "32/32 [==============================] - 0s 5ms/step - loss: 0.4712 - acc: 0.8796 - val_loss: 0.4357 - val_acc: 0.9087 - lr: 0.0074\n",
      "Epoch 70/500\n",
      "32/32 [==============================] - 0s 5ms/step - loss: 0.4672 - acc: 0.8836 - val_loss: 0.4321 - val_acc: 0.9087 - lr: 0.0074\n",
      "Epoch 71/500\n",
      "32/32 [==============================] - 0s 5ms/step - loss: 0.4629 - acc: 0.8855 - val_loss: 0.4324 - val_acc: 0.9087 - lr: 0.0074\n",
      "Epoch 72/500\n",
      "32/32 [==============================] - 0s 5ms/step - loss: 0.4602 - acc: 0.8806 - val_loss: 0.4266 - val_acc: 0.9087 - lr: 0.0073\n",
      "Epoch 73/500\n",
      "32/32 [==============================] - 0s 5ms/step - loss: 0.4582 - acc: 0.8816 - val_loss: 0.4228 - val_acc: 0.9087 - lr: 0.0073\n",
      "Epoch 74/500\n",
      "32/32 [==============================] - 0s 5ms/step - loss: 0.4549 - acc: 0.8806 - val_loss: 0.4204 - val_acc: 0.9087 - lr: 0.0073\n",
      "Epoch 75/500\n",
      "32/32 [==============================] - 0s 5ms/step - loss: 0.4536 - acc: 0.8826 - val_loss: 0.4171 - val_acc: 0.9087 - lr: 0.0072\n",
      "Epoch 76/500\n",
      "32/32 [==============================] - 0s 5ms/step - loss: 0.4485 - acc: 0.8865 - val_loss: 0.4201 - val_acc: 0.9132 - lr: 0.0072\n",
      "Epoch 77/500\n",
      "32/32 [==============================] - 0s 5ms/step - loss: 0.4479 - acc: 0.8836 - val_loss: 0.4123 - val_acc: 0.9132 - lr: 0.0072\n",
      "Epoch 78/500\n",
      "32/32 [==============================] - 0s 6ms/step - loss: 0.4451 - acc: 0.8845 - val_loss: 0.4090 - val_acc: 0.9132 - lr: 0.0071\n",
      "Epoch 79/500\n",
      "32/32 [==============================] - 0s 5ms/step - loss: 0.4425 - acc: 0.8816 - val_loss: 0.4063 - val_acc: 0.9132 - lr: 0.0071\n",
      "Epoch 80/500\n",
      "32/32 [==============================] - 0s 5ms/step - loss: 0.4385 - acc: 0.8836 - val_loss: 0.4101 - val_acc: 0.9132 - lr: 0.0070\n",
      "Epoch 81/500\n",
      "32/32 [==============================] - 0s 5ms/step - loss: 0.4366 - acc: 0.8836 - val_loss: 0.4020 - val_acc: 0.9087 - lr: 0.0070\n",
      "Epoch 82/500\n",
      "32/32 [==============================] - 0s 5ms/step - loss: 0.4349 - acc: 0.8836 - val_loss: 0.3989 - val_acc: 0.9087 - lr: 0.0070\n",
      "Epoch 83/500\n",
      "32/32 [==============================] - 0s 5ms/step - loss: 0.4319 - acc: 0.8816 - val_loss: 0.3965 - val_acc: 0.9087 - lr: 0.0069\n",
      "Epoch 84/500\n",
      "32/32 [==============================] - 0s 5ms/step - loss: 0.4313 - acc: 0.8836 - val_loss: 0.3991 - val_acc: 0.9178 - lr: 0.0069\n",
      "Epoch 85/500\n",
      "32/32 [==============================] - 0s 5ms/step - loss: 0.4280 - acc: 0.8845 - val_loss: 0.4035 - val_acc: 0.9087 - lr: 0.0069\n",
      "Epoch 86/500\n",
      "32/32 [==============================] - 0s 5ms/step - loss: 0.4268 - acc: 0.8845 - val_loss: 0.3948 - val_acc: 0.9132 - lr: 0.0068\n",
      "Epoch 87/500\n",
      "32/32 [==============================] - 0s 5ms/step - loss: 0.4238 - acc: 0.8826 - val_loss: 0.3922 - val_acc: 0.9178 - lr: 0.0068\n",
      "Epoch 88/500\n",
      "32/32 [==============================] - 0s 5ms/step - loss: 0.4230 - acc: 0.8845 - val_loss: 0.3866 - val_acc: 0.9087 - lr: 0.0068\n",
      "Epoch 89/500\n",
      "32/32 [==============================] - 0s 5ms/step - loss: 0.4199 - acc: 0.8836 - val_loss: 0.3837 - val_acc: 0.9087 - lr: 0.0067\n",
      "Epoch 90/500\n",
      "32/32 [==============================] - 0s 5ms/step - loss: 0.4176 - acc: 0.8806 - val_loss: 0.3816 - val_acc: 0.9087 - lr: 0.0067\n",
      "Epoch 91/500\n",
      "32/32 [==============================] - 0s 5ms/step - loss: 0.4160 - acc: 0.8836 - val_loss: 0.3801 - val_acc: 0.9087 - lr: 0.0067\n",
      "Epoch 92/500\n",
      "32/32 [==============================] - 0s 5ms/step - loss: 0.4127 - acc: 0.8855 - val_loss: 0.3814 - val_acc: 0.9178 - lr: 0.0066\n",
      "Epoch 93/500\n",
      "32/32 [==============================] - 0s 5ms/step - loss: 0.4094 - acc: 0.8836 - val_loss: 0.3863 - val_acc: 0.9132 - lr: 0.0066\n",
      "Epoch 94/500\n",
      "32/32 [==============================] - 0s 5ms/step - loss: 0.4109 - acc: 0.8777 - val_loss: 0.3762 - val_acc: 0.9087 - lr: 0.0066\n",
      "Epoch 95/500\n",
      "32/32 [==============================] - 0s 5ms/step - loss: 0.4085 - acc: 0.8836 - val_loss: 0.3734 - val_acc: 0.9087 - lr: 0.0065\n",
      "Epoch 96/500\n",
      "32/32 [==============================] - 0s 5ms/step - loss: 0.4069 - acc: 0.8855 - val_loss: 0.3701 - val_acc: 0.9087 - lr: 0.0065\n",
      "Epoch 97/500\n",
      "32/32 [==============================] - 0s 5ms/step - loss: 0.4053 - acc: 0.8816 - val_loss: 0.3696 - val_acc: 0.9087 - lr: 0.0065\n",
      "Epoch 98/500\n",
      "32/32 [==============================] - 0s 5ms/step - loss: 0.4029 - acc: 0.8885 - val_loss: 0.3690 - val_acc: 0.9087 - lr: 0.0064\n",
      "Epoch 99/500\n",
      "32/32 [==============================] - 0s 5ms/step - loss: 0.4015 - acc: 0.8855 - val_loss: 0.3652 - val_acc: 0.9087 - lr: 0.0064\n",
      "Epoch 100/500\n",
      "32/32 [==============================] - 0s 5ms/step - loss: 0.3996 - acc: 0.8836 - val_loss: 0.3643 - val_acc: 0.9132 - lr: 0.0064\n",
      "Epoch 101/500\n",
      "32/32 [==============================] - 0s 5ms/step - loss: 0.3995 - acc: 0.8875 - val_loss: 0.3624 - val_acc: 0.9087 - lr: 0.0063\n",
      "Epoch 102/500\n",
      "32/32 [==============================] - 0s 5ms/step - loss: 0.3969 - acc: 0.8836 - val_loss: 0.3618 - val_acc: 0.9087 - lr: 0.0063\n",
      "Epoch 103/500\n",
      "32/32 [==============================] - 0s 5ms/step - loss: 0.3951 - acc: 0.8816 - val_loss: 0.3647 - val_acc: 0.9132 - lr: 0.0063\n",
      "Epoch 104/500\n",
      "32/32 [==============================] - 0s 5ms/step - loss: 0.3935 - acc: 0.8806 - val_loss: 0.3614 - val_acc: 0.9132 - lr: 0.0063\n",
      "Epoch 105/500\n",
      "32/32 [==============================] - 0s 5ms/step - loss: 0.3954 - acc: 0.8875 - val_loss: 0.3563 - val_acc: 0.9132 - lr: 0.0062\n",
      "Epoch 106/500\n",
      "32/32 [==============================] - 0s 5ms/step - loss: 0.3924 - acc: 0.8816 - val_loss: 0.3558 - val_acc: 0.9087 - lr: 0.0062\n",
      "Epoch 107/500\n",
      "32/32 [==============================] - 0s 6ms/step - loss: 0.3907 - acc: 0.8796 - val_loss: 0.3550 - val_acc: 0.9087 - lr: 0.0062\n",
      "Epoch 108/500\n",
      "32/32 [==============================] - 0s 6ms/step - loss: 0.3898 - acc: 0.8885 - val_loss: 0.3518 - val_acc: 0.9178 - lr: 0.0061\n",
      "Epoch 109/500\n",
      "32/32 [==============================] - 0s 8ms/step - loss: 0.3882 - acc: 0.8875 - val_loss: 0.3514 - val_acc: 0.9087 - lr: 0.0061\n"
     ]
    }
   ],
   "source": [
    "#Always run the following two line together\n",
    "model = nnetwork(32,32,32) \n",
    "model,model_hist = train(model,X_train,y_train,X_val,y_val,num_epochs = 500,batch_size = 32,lr_initial = 0.01,momentum = 0.5,patience_value = 25)"
   ]
  },
  {
   "cell_type": "code",
   "execution_count": 24,
   "metadata": {},
   "outputs": [
    {
     "data": {
      "image/png": "[encoded data removed]",
      "text/plain": [
       "<Figure size 432x288 with 1 Axes>"
      ]
     },
     "metadata": {
      "needs_background": "light"
     },
     "output_type": "display_data"
    }
   ],
   "source": [
    "plt.plot(model_hist.history['loss'])\n",
    "plt.plot(model_hist.history['val_loss'])\n",
    "plt.title('Model loss')\n",
    "plt.ylabel('Loss')\n",
    "plt.xlabel('Epoch')\n",
    "plt.legend(['Train', 'Val'], loc='upper right')\n",
    "plt.savefig('part5_lamda0.01_l2_loss_vs_epochs.png')\n",
    "# plt.show()"
   ]
  },
  {
   "cell_type": "code",
   "execution_count": 25,
   "metadata": {},
   "outputs": [
    {
     "data": {
      "image/png": "[encoded data removed]",
      "text/plain": [
       "<Figure size 432x288 with 1 Axes>"
      ]
     },
     "metadata": {
      "needs_background": "light"
     },
     "output_type": "display_data"
    }
   ],
   "source": [
    "plt.plot(model_hist.history['acc'])\n",
    "plt.plot(model_hist.history['val_acc'])\n",
    "plt.title('Model accuracy')\n",
    "plt.ylabel('Accuracy')\n",
    "plt.xlabel('Epoch')\n",
    "plt.legend(['Train', 'Val'], loc='lower right')\n",
    "plt.savefig('part5_l2_lamda0.01_acc_vs_epochs.png')\n",
    "# plt.show()"
   ]
  },
  {
   "cell_type": "code",
   "execution_count": null,
   "metadata": {},
   "outputs": [],
   "source": []
  }
 ],
 "metadata": {
  "kernelspec": {
   "display_name": "Python 3.9.0 64-bit",
   "language": "python",
   "name": "python3"
  },
  "language_info": {
   "codemirror_mode": {
    "name": "ipython",
    "version": 3
   },
   "file_extension": ".py",
   "mimetype": "text/x-python",
   "name": "python",
   "nbconvert_exporter": "python",
   "pygments_lexer": "ipython3",
   "version": "3.9.0"
  },
  "orig_nbformat": 4,
  "vscode": {
   "interpreter": {
    "hash": "8f8cf99212f81ad0c4765861267244807ee1c18364846cdce387b28994a977ba"
   }
  }
 },
 "nbformat": 4,
 "nbformat_minor": 2
}
