{
 "cells": [
  {
   "cell_type": "code",
   "execution_count": 71,
   "metadata": {},
   "outputs": [],
   "source": [
    "import tensorflow as tf\n",
    "from tensorflow.keras.models import Sequential\n",
    "from tensorflow.keras.layers import Dense,Dropout\n",
    "from tensorflow.keras.callbacks import ModelCheckpoint,LearningRateScheduler,EarlyStopping\n",
    "from sklearn import preprocessing\n",
    "from sklearn.model_selection import train_test_split\n",
    "import numpy as np\n",
    "import pandas as pd\n",
    "import matplotlib.pyplot as plt"
   ]
  },
  {
   "cell_type": "code",
   "execution_count": 2,
   "metadata": {},
   "outputs": [],
   "source": [
    "def preprocess(df):\n",
    "    data = df.values\n",
    "    X = data[:,0:10]\n",
    "    y = data[:,10]\n",
    "    #we have to scale the features to a common range\n",
    "    #we are using min-max scaler instead of standardscaler because min-max scaler preserves the distribution of the data\n",
    "    #Add the formula for min-max scaler in the report\n",
    "    X = preprocessing.MinMaxScaler().fit_transform(X)\n",
    "    return X,y"
   ]
  },
  {
   "cell_type": "code",
   "execution_count": 3,
   "metadata": {},
   "outputs": [],
   "source": [
    "def split(X,y):\n",
    "    X_train, temp_x, y_train, temp_y = train_test_split(X, y, test_size=0.3)\n",
    "    X_val, X_test, y_val, y_test = train_test_split(temp_x, temp_y, test_size=0.5)\n",
    "    return X_train,X_val,X_test,y_train,y_val,y_test"
   ]
  },
  {
   "cell_type": "code",
   "execution_count": 77,
   "metadata": {},
   "outputs": [],
   "source": [
    "def nnetwork(n1,n2,n3):\n",
    "    model = Sequential()\n",
    "    model.add(Dense(n1,activation = 'relu',input_shape = (10,))) #The weight matrix is initialised using the default initializer 'glorot_uniform'\n",
    "    model.add(Dense(n2,activation = 'relu'))\n",
    "    model.add(Dropout(0.4))\n",
    "    model.add(Dense(n3,activation = 'relu'))\n",
    "    model.add(Dense(1,activation = 'sigmoid'))\n",
    "    # model.summary()\n",
    "    return model    "
   ]
  },
  {
   "cell_type": "code",
   "execution_count": 78,
   "metadata": {},
   "outputs": [],
   "source": [
    "#This is for learning rate scheduler.\n",
    "#decay_rate is hyperparameter that we need to optimize\n",
    "#we can use different typer decays:\n",
    "# time based decay: lr = lr/(1 + decay_rate*epoch)\n",
    "# step decay: lr = lr0*drop^(floor(epoch/epoch_drop))\n",
    "#The following is exponential decay:\n",
    "def schedule(epoch,lr,decay_rate = 0.005):\n",
    "    if(epoch < 10):\n",
    "        return lr\n",
    "    # lr_new = lr*np.exp(-decay_rate*epoch)\n",
    "    lr_new = lr*np.exp(-decay_rate)\n",
    "    # lr_new = lr/(1 + decay_rate*epoch)\n",
    "    return lr_new"
   ]
  },
  {
   "cell_type": "code",
   "execution_count": 79,
   "metadata": {},
   "outputs": [],
   "source": [
    "def train(model,X_train,y_train,X_val,y_val,num_epochs = 500,batch_size = 32,lr_initial = 0.001,momentum = 0.5,patience_value = 7):\n",
    "    tf.keras.backend.clear_session()\n",
    "    callbacks = [EarlyStopping(monitor='val_acc', patience=patience_value),LearningRateScheduler(schedule)]\n",
    "    model.compile(loss='binary_crossentropy', optimizer=tf.keras.optimizers.SGD(learning_rate=lr_initial,momentum= momentum),metrics=['acc'])\n",
    "    model_history=model.fit(X_train, y_train, batch_size=batch_size, epochs=num_epochs, validation_data=(X_val, y_val),\n",
    "                        callbacks=callbacks)\n",
    "    return model,model_history"
   ]
  },
  {
   "cell_type": "code",
   "execution_count": 16,
   "metadata": {},
   "outputs": [],
   "source": [
    "df = pd.read_csv('housepricedata.csv')"
   ]
  },
  {
   "cell_type": "code",
   "execution_count": null,
   "metadata": {},
   "outputs": [],
   "source": [
    "np.random.seed(42)"
   ]
  },
  {
   "cell_type": "code",
   "execution_count": 17,
   "metadata": {},
   "outputs": [],
   "source": [
    "X,y = preprocess(df)"
   ]
  },
  {
   "cell_type": "code",
   "execution_count": 18,
   "metadata": {},
   "outputs": [],
   "source": [
    "X_train,X_val,X_test,y_train,y_val,y_test = split(X,y)"
   ]
  },
  {
   "cell_type": "code",
   "execution_count": 19,
   "metadata": {},
   "outputs": [
    {
     "name": "stdout",
     "output_type": "stream",
     "text": [
      "(1022, 10) (219, 10) (219, 10) (1022,) (219,) (219,)\n"
     ]
    }
   ],
   "source": [
    "print(X_train.shape, X_val.shape, X_test.shape, y_train.shape, y_val.shape, y_test.shape)"
   ]
  },
  {
   "cell_type": "code",
   "execution_count": 80,
   "metadata": {},
   "outputs": [
    {
     "name": "stdout",
     "output_type": "stream",
     "text": [
      "Epoch 1/500\n",
      "32/32 [==============================] - 1s 14ms/step - loss: 0.6993 - acc: 0.4980 - val_loss: 0.6940 - val_acc: 0.4566 - lr: 0.0100\n",
      "Epoch 2/500\n",
      "32/32 [==============================] - 0s 8ms/step - loss: 0.6903 - acc: 0.5440 - val_loss: 0.6855 - val_acc: 0.6575 - lr: 0.0100\n",
      "Epoch 3/500\n",
      "32/32 [==============================] - 0s 9ms/step - loss: 0.6837 - acc: 0.6037 - val_loss: 0.6779 - val_acc: 0.7945 - lr: 0.0100\n",
      "Epoch 4/500\n",
      "32/32 [==============================] - 0s 10ms/step - loss: 0.6759 - acc: 0.6350 - val_loss: 0.6712 - val_acc: 0.8082 - lr: 0.0100\n",
      "Epoch 5/500\n",
      "32/32 [==============================] - 0s 7ms/step - loss: 0.6746 - acc: 0.6272 - val_loss: 0.6640 - val_acc: 0.8082 - lr: 0.0100\n",
      "Epoch 6/500\n",
      "32/32 [==============================] - 0s 7ms/step - loss: 0.6670 - acc: 0.6624 - val_loss: 0.6563 - val_acc: 0.8082 - lr: 0.0100\n",
      "Epoch 7/500\n",
      "32/32 [==============================] - 0s 7ms/step - loss: 0.6518 - acc: 0.6957 - val_loss: 0.6470 - val_acc: 0.8265 - lr: 0.0100\n",
      "Epoch 8/500\n",
      "32/32 [==============================] - 0s 6ms/step - loss: 0.6481 - acc: 0.7074 - val_loss: 0.6372 - val_acc: 0.8447 - lr: 0.0100\n",
      "Epoch 9/500\n",
      "32/32 [==============================] - 0s 9ms/step - loss: 0.6362 - acc: 0.7221 - val_loss: 0.6250 - val_acc: 0.8402 - lr: 0.0100\n",
      "Epoch 10/500\n",
      "32/32 [==============================] - 0s 7ms/step - loss: 0.6236 - acc: 0.7378 - val_loss: 0.6127 - val_acc: 0.8584 - lr: 0.0100\n",
      "Epoch 11/500\n",
      "32/32 [==============================] - 0s 7ms/step - loss: 0.6030 - acc: 0.7661 - val_loss: 0.5931 - val_acc: 0.8311 - lr: 0.0100\n",
      "Epoch 12/500\n",
      "32/32 [==============================] - 0s 7ms/step - loss: 0.5933 - acc: 0.7720 - val_loss: 0.5741 - val_acc: 0.8219 - lr: 0.0099\n",
      "Epoch 13/500\n",
      "32/32 [==============================] - 0s 7ms/step - loss: 0.5789 - acc: 0.7691 - val_loss: 0.5572 - val_acc: 0.8447 - lr: 0.0099\n",
      "Epoch 14/500\n",
      "32/32 [==============================] - 0s 7ms/step - loss: 0.5470 - acc: 0.7935 - val_loss: 0.5349 - val_acc: 0.8447 - lr: 0.0098\n",
      "Epoch 15/500\n",
      "32/32 [==============================] - 0s 8ms/step - loss: 0.5295 - acc: 0.7926 - val_loss: 0.5118 - val_acc: 0.8356 - lr: 0.0098\n",
      "Epoch 16/500\n",
      "32/32 [==============================] - 0s 9ms/step - loss: 0.5139 - acc: 0.7965 - val_loss: 0.4920 - val_acc: 0.8447 - lr: 0.0097\n",
      "Epoch 17/500\n",
      "32/32 [==============================] - 0s 9ms/step - loss: 0.4912 - acc: 0.8151 - val_loss: 0.4713 - val_acc: 0.8219 - lr: 0.0097\n",
      "Epoch 18/500\n",
      "32/32 [==============================] - 0s 8ms/step - loss: 0.4657 - acc: 0.8190 - val_loss: 0.4527 - val_acc: 0.8447 - lr: 0.0096\n",
      "Epoch 19/500\n",
      "32/32 [==============================] - 0s 9ms/step - loss: 0.4567 - acc: 0.8268 - val_loss: 0.4371 - val_acc: 0.8356 - lr: 0.0096\n",
      "Epoch 20/500\n",
      "32/32 [==============================] - 0s 7ms/step - loss: 0.4311 - acc: 0.8454 - val_loss: 0.4217 - val_acc: 0.8356 - lr: 0.0095\n",
      "Epoch 21/500\n",
      "32/32 [==============================] - 0s 8ms/step - loss: 0.4271 - acc: 0.8278 - val_loss: 0.4116 - val_acc: 0.8265 - lr: 0.0095\n",
      "Epoch 22/500\n",
      "32/32 [==============================] - 0s 7ms/step - loss: 0.4217 - acc: 0.8278 - val_loss: 0.4016 - val_acc: 0.8493 - lr: 0.0094\n",
      "Epoch 23/500\n",
      "32/32 [==============================] - 0s 7ms/step - loss: 0.4008 - acc: 0.8337 - val_loss: 0.3927 - val_acc: 0.8447 - lr: 0.0094\n",
      "Epoch 24/500\n",
      "32/32 [==============================] - 0s 9ms/step - loss: 0.3938 - acc: 0.8483 - val_loss: 0.3861 - val_acc: 0.8402 - lr: 0.0093\n",
      "Epoch 25/500\n",
      "32/32 [==============================] - 0s 6ms/step - loss: 0.3833 - acc: 0.8581 - val_loss: 0.3832 - val_acc: 0.8265 - lr: 0.0093\n",
      "Epoch 26/500\n",
      "32/32 [==============================] - 0s 7ms/step - loss: 0.3709 - acc: 0.8679 - val_loss: 0.3766 - val_acc: 0.8265 - lr: 0.0092\n",
      "Epoch 27/500\n",
      "32/32 [==============================] - 0s 6ms/step - loss: 0.3666 - acc: 0.8552 - val_loss: 0.3703 - val_acc: 0.8539 - lr: 0.0092\n",
      "Epoch 28/500\n",
      "32/32 [==============================] - 0s 6ms/step - loss: 0.3620 - acc: 0.8542 - val_loss: 0.3673 - val_acc: 0.8493 - lr: 0.0091\n",
      "Epoch 29/500\n",
      "32/32 [==============================] - 0s 6ms/step - loss: 0.3614 - acc: 0.8562 - val_loss: 0.3657 - val_acc: 0.8356 - lr: 0.0091\n",
      "Epoch 30/500\n",
      "32/32 [==============================] - 0s 7ms/step - loss: 0.3545 - acc: 0.8699 - val_loss: 0.3617 - val_acc: 0.8539 - lr: 0.0090\n",
      "Epoch 31/500\n",
      "32/32 [==============================] - 0s 7ms/step - loss: 0.3661 - acc: 0.8503 - val_loss: 0.3605 - val_acc: 0.8447 - lr: 0.0090\n",
      "Epoch 32/500\n",
      "32/32 [==============================] - 0s 7ms/step - loss: 0.3454 - acc: 0.8757 - val_loss: 0.3579 - val_acc: 0.8539 - lr: 0.0090\n",
      "Epoch 33/500\n",
      "32/32 [==============================] - 0s 5ms/step - loss: 0.3474 - acc: 0.8738 - val_loss: 0.3575 - val_acc: 0.8402 - lr: 0.0089\n",
      "Epoch 34/500\n",
      "32/32 [==============================] - 0s 6ms/step - loss: 0.3420 - acc: 0.8748 - val_loss: 0.3560 - val_acc: 0.8721 - lr: 0.0089\n",
      "Epoch 35/500\n",
      "32/32 [==============================] - 0s 6ms/step - loss: 0.3399 - acc: 0.8630 - val_loss: 0.3558 - val_acc: 0.8356 - lr: 0.0088\n",
      "Epoch 36/500\n",
      "32/32 [==============================] - 0s 5ms/step - loss: 0.3305 - acc: 0.8718 - val_loss: 0.3551 - val_acc: 0.8311 - lr: 0.0088\n",
      "Epoch 37/500\n",
      "32/32 [==============================] - 0s 6ms/step - loss: 0.3332 - acc: 0.8591 - val_loss: 0.3506 - val_acc: 0.8493 - lr: 0.0087\n",
      "Epoch 38/500\n",
      "32/32 [==============================] - 0s 6ms/step - loss: 0.3303 - acc: 0.8777 - val_loss: 0.3500 - val_acc: 0.8493 - lr: 0.0087\n",
      "Epoch 39/500\n",
      "32/32 [==============================] - 0s 5ms/step - loss: 0.3289 - acc: 0.8708 - val_loss: 0.3491 - val_acc: 0.8721 - lr: 0.0087\n",
      "Epoch 40/500\n",
      "32/32 [==============================] - 0s 5ms/step - loss: 0.3122 - acc: 0.8679 - val_loss: 0.3465 - val_acc: 0.8493 - lr: 0.0086\n",
      "Epoch 41/500\n",
      "32/32 [==============================] - 0s 5ms/step - loss: 0.3277 - acc: 0.8699 - val_loss: 0.3467 - val_acc: 0.8493 - lr: 0.0086\n",
      "Epoch 42/500\n",
      "32/32 [==============================] - 0s 6ms/step - loss: 0.3174 - acc: 0.8689 - val_loss: 0.3493 - val_acc: 0.8767 - lr: 0.0085\n",
      "Epoch 43/500\n",
      "32/32 [==============================] - 0s 6ms/step - loss: 0.3152 - acc: 0.8728 - val_loss: 0.3449 - val_acc: 0.8721 - lr: 0.0085\n",
      "Epoch 44/500\n",
      "32/32 [==============================] - 0s 5ms/step - loss: 0.3179 - acc: 0.8796 - val_loss: 0.3487 - val_acc: 0.8767 - lr: 0.0084\n",
      "Epoch 45/500\n",
      "32/32 [==============================] - 0s 5ms/step - loss: 0.3150 - acc: 0.8806 - val_loss: 0.3469 - val_acc: 0.8767 - lr: 0.0084\n",
      "Epoch 46/500\n",
      "32/32 [==============================] - 0s 5ms/step - loss: 0.3157 - acc: 0.8738 - val_loss: 0.3417 - val_acc: 0.8676 - lr: 0.0084\n",
      "Epoch 47/500\n",
      "32/32 [==============================] - 0s 5ms/step - loss: 0.3131 - acc: 0.8767 - val_loss: 0.3458 - val_acc: 0.8767 - lr: 0.0083\n",
      "Epoch 48/500\n",
      "32/32 [==============================] - 0s 6ms/step - loss: 0.3120 - acc: 0.8875 - val_loss: 0.3403 - val_acc: 0.8721 - lr: 0.0083\n",
      "Epoch 49/500\n",
      "32/32 [==============================] - 0s 7ms/step - loss: 0.3194 - acc: 0.8845 - val_loss: 0.3384 - val_acc: 0.8721 - lr: 0.0082\n",
      "Epoch 50/500\n",
      "32/32 [==============================] - 0s 7ms/step - loss: 0.3092 - acc: 0.8806 - val_loss: 0.3382 - val_acc: 0.8721 - lr: 0.0082\n",
      "Epoch 51/500\n",
      "32/32 [==============================] - 0s 6ms/step - loss: 0.3143 - acc: 0.8767 - val_loss: 0.3357 - val_acc: 0.8676 - lr: 0.0081\n",
      "Epoch 52/500\n",
      "32/32 [==============================] - 0s 6ms/step - loss: 0.2974 - acc: 0.8806 - val_loss: 0.3349 - val_acc: 0.8630 - lr: 0.0081\n",
      "Epoch 53/500\n",
      "32/32 [==============================] - 0s 7ms/step - loss: 0.3021 - acc: 0.8826 - val_loss: 0.3360 - val_acc: 0.8721 - lr: 0.0081\n",
      "Epoch 54/500\n",
      "32/32 [==============================] - 0s 8ms/step - loss: 0.2851 - acc: 0.8953 - val_loss: 0.3341 - val_acc: 0.8721 - lr: 0.0080\n",
      "Epoch 55/500\n",
      "32/32 [==============================] - 0s 8ms/step - loss: 0.2971 - acc: 0.8787 - val_loss: 0.3340 - val_acc: 0.8676 - lr: 0.0080\n",
      "Epoch 56/500\n",
      "32/32 [==============================] - 0s 7ms/step - loss: 0.3031 - acc: 0.8845 - val_loss: 0.3353 - val_acc: 0.8721 - lr: 0.0079\n",
      "Epoch 57/500\n",
      "32/32 [==============================] - 0s 6ms/step - loss: 0.2983 - acc: 0.8796 - val_loss: 0.3356 - val_acc: 0.8721 - lr: 0.0079\n",
      "Epoch 58/500\n",
      "32/32 [==============================] - 0s 7ms/step - loss: 0.2983 - acc: 0.8748 - val_loss: 0.3329 - val_acc: 0.8767 - lr: 0.0079\n",
      "Epoch 59/500\n",
      "32/32 [==============================] - 0s 6ms/step - loss: 0.3018 - acc: 0.8796 - val_loss: 0.3322 - val_acc: 0.8767 - lr: 0.0078\n",
      "Epoch 60/500\n",
      "32/32 [==============================] - 0s 6ms/step - loss: 0.2906 - acc: 0.8885 - val_loss: 0.3307 - val_acc: 0.8767 - lr: 0.0078\n",
      "Epoch 61/500\n",
      "32/32 [==============================] - 0s 7ms/step - loss: 0.2834 - acc: 0.8836 - val_loss: 0.3291 - val_acc: 0.8676 - lr: 0.0077\n",
      "Epoch 62/500\n",
      "32/32 [==============================] - 0s 6ms/step - loss: 0.3083 - acc: 0.8855 - val_loss: 0.3290 - val_acc: 0.8676 - lr: 0.0077\n",
      "Epoch 63/500\n",
      "32/32 [==============================] - 0s 6ms/step - loss: 0.2776 - acc: 0.8865 - val_loss: 0.3327 - val_acc: 0.8767 - lr: 0.0077\n",
      "Epoch 64/500\n",
      "32/32 [==============================] - 0s 6ms/step - loss: 0.2818 - acc: 0.8865 - val_loss: 0.3316 - val_acc: 0.8721 - lr: 0.0076\n",
      "Epoch 65/500\n",
      "32/32 [==============================] - 0s 5ms/step - loss: 0.2889 - acc: 0.8845 - val_loss: 0.3308 - val_acc: 0.8767 - lr: 0.0076\n",
      "Epoch 66/500\n",
      "32/32 [==============================] - 0s 5ms/step - loss: 0.2881 - acc: 0.8836 - val_loss: 0.3307 - val_acc: 0.8721 - lr: 0.0076\n",
      "Epoch 67/500\n",
      "32/32 [==============================] - 0s 6ms/step - loss: 0.2868 - acc: 0.8845 - val_loss: 0.3289 - val_acc: 0.8676 - lr: 0.0075\n"
     ]
    }
   ],
   "source": [
    "#Always run the following two line together\n",
    "model = nnetwork(32,32,32) \n",
    "model,model_hist = train(model,X_train,y_train,X_val,y_val,num_epochs = 500,batch_size = 32,lr_initial = 0.01,momentum = 0.5,patience_value = 25)"
   ]
  },
  {
   "cell_type": "code",
   "execution_count": 82,
   "metadata": {},
   "outputs": [
    {
     "data": {
      "image/png": "[encoded data removed]",
      "text/plain": [
       "<Figure size 432x288 with 1 Axes>"
      ]
     },
     "metadata": {
      "needs_background": "light"
     },
     "output_type": "display_data"
    }
   ],
   "source": [
    "plt.plot(model_hist.history['loss'])\n",
    "plt.plot(model_hist.history['val_loss'])\n",
    "plt.title('Model loss')\n",
    "plt.ylabel('Loss')\n",
    "plt.xlabel('Epoch')\n",
    "plt.legend(['Train', 'Val'], loc='upper right')\n",
    "# plt.savefig('part3_loss_vs_epochs.png')\n",
    "plt.show()"
   ]
  },
  {
   "cell_type": "code",
   "execution_count": 83,
   "metadata": {},
   "outputs": [
    {
     "data": {
      "image/png": "[encoded data removed]",
      "text/plain": [
       "<Figure size 432x288 with 1 Axes>"
      ]
     },
     "metadata": {
      "needs_background": "light"
     },
     "output_type": "display_data"
    }
   ],
   "source": [
    "plt.plot(model_hist.history['acc'])\n",
    "plt.plot(model_hist.history['val_acc'])\n",
    "plt.title('Model accuracy')\n",
    "plt.ylabel('Accuracy')\n",
    "plt.xlabel('Epoch')\n",
    "plt.legend(['Train', 'Val'], loc='lower right')\n",
    "# plt.savefig('part3_acc_vs_epochs.png')\n",
    "plt.show()"
   ]
  },
  {
   "cell_type": "code",
   "execution_count": null,
   "metadata": {},
   "outputs": [],
   "source": []
  }
 ],
 "metadata": {
  "kernelspec": {
   "display_name": "Python 3.9.0 64-bit",
   "language": "python",
   "name": "python3"
  },
  "language_info": {
   "codemirror_mode": {
    "name": "ipython",
    "version": 3
   },
   "file_extension": ".py",
   "mimetype": "text/x-python",
   "name": "python",
   "nbconvert_exporter": "python",
   "pygments_lexer": "ipython3",
   "version": "3.9.0"
  },
  "orig_nbformat": 4,
  "vscode": {
   "interpreter": {
    "hash": "8f8cf99212f81ad0c4765861267244807ee1c18364846cdce387b28994a977ba"
   }
  }
 },
 "nbformat": 4,
 "nbformat_minor": 2
}
