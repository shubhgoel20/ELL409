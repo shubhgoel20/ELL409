{
 "cells": [
  {
   "cell_type": "code",
   "execution_count": 3,
   "metadata": {},
   "outputs": [],
   "source": [
    "import tensorflow as tf\n",
    "from tensorflow.keras.models import Sequential\n",
    "from tensorflow.keras.layers import Dense,Dropout\n",
    "from tensorflow.keras.callbacks import ModelCheckpoint,LearningRateScheduler,EarlyStopping\n",
    "from sklearn import preprocessing\n",
    "from sklearn.model_selection import train_test_split\n",
    "import numpy as np\n",
    "import pandas as pd\n",
    "import matplotlib.pyplot as plt"
   ]
  },
  {
   "cell_type": "code",
   "execution_count": 4,
   "metadata": {},
   "outputs": [],
   "source": [
    "def preprocess(df):\n",
    "    data = df.values\n",
    "    X = data[:,0:10]\n",
    "    y = data[:,10]\n",
    "    #we have to scale the features to a common range\n",
    "    #we are using min-max scaler instead of standardscaler because min-max scaler preserves the distribution of the data\n",
    "    #Add the formula for min-max scaler in the report\n",
    "    X = preprocessing.MinMaxScaler().fit_transform(X)\n",
    "    return X,y"
   ]
  },
  {
   "cell_type": "code",
   "execution_count": 5,
   "metadata": {},
   "outputs": [],
   "source": [
    "def split(X,y):\n",
    "    X_train, temp_x, y_train, temp_y = train_test_split(X, y, test_size=0.3)\n",
    "    X_val, X_test, y_val, y_test = train_test_split(temp_x, temp_y, test_size=0.5)\n",
    "    return X_train,X_val,X_test,y_train,y_val,y_test"
   ]
  },
  {
   "cell_type": "code",
   "execution_count": 29,
   "metadata": {},
   "outputs": [],
   "source": [
    "def nnetwork(n1,n2,n3):\n",
    "    model = Sequential()\n",
    "    model.add(Dense(n1,activation = 'relu',input_shape = (10,))) #The weight matrix is initialised using the default initializer 'glorot_uniform'\n",
    "    model.add(Dense(n2,activation = 'relu',kernel_regularizer=tf.keras.regularizers.L1(0.001)))\n",
    "    model.add(Dense(n3,activation = 'relu',kernel_regularizer=tf.keras.regularizers.L1(0.001)))\n",
    "    model.add(Dense(1,activation = 'sigmoid'))\n",
    "    # model.summary()\n",
    "    return model    "
   ]
  },
  {
   "cell_type": "code",
   "execution_count": 7,
   "metadata": {},
   "outputs": [],
   "source": [
    "#This is for learning rate scheduler.\n",
    "#decay_rate is hyperparameter that we need to optimize\n",
    "#we can use different typer decays:\n",
    "# time based decay: lr = lr/(1 + decay_rate*epoch)\n",
    "# step decay: lr = lr0*drop^(floor(epoch/epoch_drop))\n",
    "#The following is exponential decay:\n",
    "def schedule(epoch,lr,decay_rate = 0.005):\n",
    "    if(epoch < 10):\n",
    "        return lr\n",
    "    # lr_new = lr*np.exp(-decay_rate*epoch)\n",
    "    lr_new = lr*np.exp(-decay_rate)\n",
    "    # lr_new = lr/(1 + decay_rate*epoch)\n",
    "    return lr_new"
   ]
  },
  {
   "cell_type": "code",
   "execution_count": 8,
   "metadata": {},
   "outputs": [],
   "source": [
    "def train(model,X_train,y_train,X_val,y_val,num_epochs = 500,batch_size = 32,lr_initial = 0.001,momentum = 0.5,patience_value = 7):\n",
    "    tf.keras.backend.clear_session()\n",
    "    callbacks = [EarlyStopping(monitor='val_acc', patience=patience_value),LearningRateScheduler(schedule)]\n",
    "    model.compile(loss='binary_crossentropy', optimizer=tf.keras.optimizers.SGD(learning_rate=lr_initial,momentum= momentum),metrics=['acc'])\n",
    "    model_history=model.fit(X_train, y_train, batch_size=batch_size, epochs=num_epochs, validation_data=(X_val, y_val),\n",
    "                        callbacks=callbacks)\n",
    "    return model,model_history"
   ]
  },
  {
   "cell_type": "code",
   "execution_count": 9,
   "metadata": {},
   "outputs": [],
   "source": [
    "df = pd.read_csv('housepricedata.csv')"
   ]
  },
  {
   "cell_type": "code",
   "execution_count": null,
   "metadata": {},
   "outputs": [],
   "source": [
    "np.random.seed(42)"
   ]
  },
  {
   "cell_type": "code",
   "execution_count": 10,
   "metadata": {},
   "outputs": [],
   "source": [
    "X,y = preprocess(df)"
   ]
  },
  {
   "cell_type": "code",
   "execution_count": 11,
   "metadata": {},
   "outputs": [],
   "source": [
    "X_train,X_val,X_test,y_train,y_val,y_test = split(X,y)"
   ]
  },
  {
   "cell_type": "code",
   "execution_count": 12,
   "metadata": {},
   "outputs": [
    {
     "name": "stdout",
     "output_type": "stream",
     "text": [
      "(1022, 10) (219, 10) (219, 10) (1022,) (219,) (219,)\n"
     ]
    }
   ],
   "source": [
    "print(X_train.shape, X_val.shape, X_test.shape, y_train.shape, y_val.shape, y_test.shape)"
   ]
  },
  {
   "cell_type": "code",
   "execution_count": 30,
   "metadata": {},
   "outputs": [
    {
     "name": "stdout",
     "output_type": "stream",
     "text": [
      "Epoch 1/500\n",
      "32/32 [==============================] - 1s 12ms/step - loss: 1.0033 - acc: 0.6957 - val_loss: 1.0012 - val_acc: 0.7534 - lr: 0.0100\n",
      "Epoch 2/500\n",
      "32/32 [==============================] - 0s 7ms/step - loss: 0.9996 - acc: 0.7613 - val_loss: 0.9978 - val_acc: 0.7671 - lr: 0.0100\n",
      "Epoch 3/500\n",
      "32/32 [==============================] - 0s 7ms/step - loss: 0.9955 - acc: 0.7750 - val_loss: 0.9937 - val_acc: 0.7671 - lr: 0.0100\n",
      "Epoch 4/500\n",
      "32/32 [==============================] - 0s 8ms/step - loss: 0.9903 - acc: 0.7926 - val_loss: 0.9881 - val_acc: 0.7900 - lr: 0.0100\n",
      "Epoch 5/500\n",
      "32/32 [==============================] - 0s 7ms/step - loss: 0.9827 - acc: 0.7926 - val_loss: 0.9820 - val_acc: 0.7717 - lr: 0.0100\n",
      "Epoch 6/500\n",
      "32/32 [==============================] - 0s 7ms/step - loss: 0.9756 - acc: 0.7916 - val_loss: 0.9761 - val_acc: 0.7626 - lr: 0.0100\n",
      "Epoch 7/500\n",
      "32/32 [==============================] - 0s 7ms/step - loss: 0.9686 - acc: 0.7935 - val_loss: 0.9701 - val_acc: 0.7534 - lr: 0.0100\n",
      "Epoch 8/500\n",
      "32/32 [==============================] - 0s 7ms/step - loss: 0.9613 - acc: 0.7877 - val_loss: 0.9631 - val_acc: 0.7580 - lr: 0.0100\n",
      "Epoch 9/500\n",
      "32/32 [==============================] - 0s 8ms/step - loss: 0.9526 - acc: 0.8141 - val_loss: 0.9559 - val_acc: 0.7397 - lr: 0.0100\n",
      "Epoch 10/500\n",
      "32/32 [==============================] - 0s 7ms/step - loss: 0.9433 - acc: 0.8072 - val_loss: 0.9469 - val_acc: 0.7534 - lr: 0.0100\n",
      "Epoch 11/500\n",
      "32/32 [==============================] - 0s 7ms/step - loss: 0.9330 - acc: 0.8141 - val_loss: 0.9360 - val_acc: 0.7854 - lr: 0.0100\n",
      "Epoch 12/500\n",
      "32/32 [==============================] - 0s 8ms/step - loss: 0.9201 - acc: 0.8376 - val_loss: 0.9245 - val_acc: 0.7854 - lr: 0.0099\n",
      "Epoch 13/500\n",
      "32/32 [==============================] - 0s 8ms/step - loss: 0.9056 - acc: 0.8444 - val_loss: 0.9098 - val_acc: 0.8082 - lr: 0.0099\n",
      "Epoch 14/500\n",
      "32/32 [==============================] - 0s 7ms/step - loss: 0.8873 - acc: 0.8386 - val_loss: 0.8909 - val_acc: 0.8174 - lr: 0.0098\n",
      "Epoch 15/500\n",
      "32/32 [==============================] - 0s 8ms/step - loss: 0.8660 - acc: 0.8425 - val_loss: 0.8697 - val_acc: 0.8174 - lr: 0.0098\n",
      "Epoch 16/500\n",
      "32/32 [==============================] - 0s 8ms/step - loss: 0.8418 - acc: 0.8503 - val_loss: 0.8478 - val_acc: 0.8082 - lr: 0.0097\n",
      "Epoch 17/500\n",
      "32/32 [==============================] - 0s 6ms/step - loss: 0.8159 - acc: 0.8493 - val_loss: 0.8235 - val_acc: 0.8174 - lr: 0.0097\n",
      "Epoch 18/500\n",
      "32/32 [==============================] - 0s 7ms/step - loss: 0.7900 - acc: 0.8542 - val_loss: 0.8006 - val_acc: 0.8311 - lr: 0.0096\n",
      "Epoch 19/500\n",
      "32/32 [==============================] - 0s 7ms/step - loss: 0.7627 - acc: 0.8591 - val_loss: 0.7761 - val_acc: 0.8356 - lr: 0.0096\n",
      "Epoch 20/500\n",
      "32/32 [==============================] - 0s 8ms/step - loss: 0.7363 - acc: 0.8591 - val_loss: 0.7538 - val_acc: 0.8311 - lr: 0.0095\n",
      "Epoch 21/500\n",
      "32/32 [==============================] - 0s 7ms/step - loss: 0.7116 - acc: 0.8679 - val_loss: 0.7317 - val_acc: 0.8402 - lr: 0.0095\n",
      "Epoch 22/500\n",
      "32/32 [==============================] - 0s 6ms/step - loss: 0.6885 - acc: 0.8679 - val_loss: 0.7124 - val_acc: 0.8447 - lr: 0.0094\n",
      "Epoch 23/500\n",
      "32/32 [==============================] - 0s 7ms/step - loss: 0.6683 - acc: 0.8708 - val_loss: 0.6949 - val_acc: 0.8402 - lr: 0.0094\n",
      "Epoch 24/500\n",
      "32/32 [==============================] - 0s 7ms/step - loss: 0.6516 - acc: 0.8748 - val_loss: 0.6826 - val_acc: 0.8493 - lr: 0.0093\n",
      "Epoch 25/500\n",
      "32/32 [==============================] - 0s 8ms/step - loss: 0.6373 - acc: 0.8757 - val_loss: 0.6748 - val_acc: 0.8539 - lr: 0.0093\n",
      "Epoch 26/500\n",
      "32/32 [==============================] - 0s 8ms/step - loss: 0.6253 - acc: 0.8787 - val_loss: 0.6613 - val_acc: 0.8539 - lr: 0.0092\n",
      "Epoch 27/500\n",
      "32/32 [==============================] - 0s 11ms/step - loss: 0.6142 - acc: 0.8875 - val_loss: 0.6530 - val_acc: 0.8630 - lr: 0.0092\n",
      "Epoch 28/500\n",
      "32/32 [==============================] - 0s 8ms/step - loss: 0.6072 - acc: 0.8865 - val_loss: 0.6457 - val_acc: 0.8630 - lr: 0.0091\n",
      "Epoch 29/500\n",
      "32/32 [==============================] - 0s 7ms/step - loss: 0.5994 - acc: 0.8894 - val_loss: 0.6405 - val_acc: 0.8721 - lr: 0.0091\n",
      "Epoch 30/500\n",
      "32/32 [==============================] - 0s 7ms/step - loss: 0.5943 - acc: 0.8865 - val_loss: 0.6360 - val_acc: 0.8676 - lr: 0.0090\n",
      "Epoch 31/500\n",
      "32/32 [==============================] - 0s 7ms/step - loss: 0.5877 - acc: 0.8875 - val_loss: 0.6305 - val_acc: 0.8676 - lr: 0.0090\n",
      "Epoch 32/500\n",
      "32/32 [==============================] - 0s 7ms/step - loss: 0.5833 - acc: 0.8875 - val_loss: 0.6340 - val_acc: 0.8676 - lr: 0.0090\n",
      "Epoch 33/500\n",
      "32/32 [==============================] - 0s 8ms/step - loss: 0.5779 - acc: 0.8865 - val_loss: 0.6242 - val_acc: 0.8630 - lr: 0.0089\n",
      "Epoch 34/500\n",
      "32/32 [==============================] - 0s 8ms/step - loss: 0.5719 - acc: 0.8894 - val_loss: 0.6197 - val_acc: 0.8767 - lr: 0.0089\n",
      "Epoch 35/500\n",
      "32/32 [==============================] - 0s 7ms/step - loss: 0.5709 - acc: 0.8875 - val_loss: 0.6174 - val_acc: 0.8676 - lr: 0.0088\n",
      "Epoch 36/500\n",
      "32/32 [==============================] - 0s 7ms/step - loss: 0.5651 - acc: 0.8963 - val_loss: 0.6111 - val_acc: 0.8767 - lr: 0.0088\n",
      "Epoch 37/500\n",
      "32/32 [==============================] - 0s 6ms/step - loss: 0.5617 - acc: 0.8904 - val_loss: 0.6119 - val_acc: 0.8676 - lr: 0.0087\n",
      "Epoch 38/500\n",
      "32/32 [==============================] - 0s 6ms/step - loss: 0.5582 - acc: 0.8963 - val_loss: 0.6049 - val_acc: 0.8767 - lr: 0.0087\n",
      "Epoch 39/500\n",
      "32/32 [==============================] - 0s 6ms/step - loss: 0.5561 - acc: 0.8973 - val_loss: 0.6027 - val_acc: 0.8630 - lr: 0.0087\n",
      "Epoch 40/500\n",
      "32/32 [==============================] - 0s 7ms/step - loss: 0.5522 - acc: 0.8992 - val_loss: 0.5993 - val_acc: 0.8721 - lr: 0.0086\n",
      "Epoch 41/500\n",
      "32/32 [==============================] - 0s 6ms/step - loss: 0.5476 - acc: 0.8953 - val_loss: 0.6014 - val_acc: 0.8676 - lr: 0.0086\n",
      "Epoch 42/500\n",
      "32/32 [==============================] - 0s 8ms/step - loss: 0.5467 - acc: 0.8924 - val_loss: 0.5958 - val_acc: 0.8676 - lr: 0.0085\n",
      "Epoch 43/500\n",
      "32/32 [==============================] - ETA: 0s - loss: 0.5638 - acc: 0.883 - 0s 6ms/step - loss: 0.5442 - acc: 0.8924 - val_loss: 0.5913 - val_acc: 0.8858 - lr: 0.0085\n",
      "Epoch 44/500\n",
      "32/32 [==============================] - 0s 8ms/step - loss: 0.5425 - acc: 0.8924 - val_loss: 0.5933 - val_acc: 0.8676 - lr: 0.0084\n",
      "Epoch 45/500\n",
      "32/32 [==============================] - 0s 6ms/step - loss: 0.5369 - acc: 0.8963 - val_loss: 0.5909 - val_acc: 0.8858 - lr: 0.0084\n",
      "Epoch 46/500\n",
      "32/32 [==============================] - 0s 6ms/step - loss: 0.5385 - acc: 0.8982 - val_loss: 0.5842 - val_acc: 0.8858 - lr: 0.0084\n",
      "Epoch 47/500\n",
      "32/32 [==============================] - 0s 6ms/step - loss: 0.5314 - acc: 0.8982 - val_loss: 0.5829 - val_acc: 0.8904 - lr: 0.0083\n",
      "Epoch 48/500\n",
      "32/32 [==============================] - 0s 6ms/step - loss: 0.5314 - acc: 0.8992 - val_loss: 0.5827 - val_acc: 0.8721 - lr: 0.0083\n",
      "Epoch 49/500\n",
      "32/32 [==============================] - 0s 7ms/step - loss: 0.5305 - acc: 0.8992 - val_loss: 0.5835 - val_acc: 0.8721 - lr: 0.0082\n",
      "Epoch 50/500\n",
      "32/32 [==============================] - 0s 7ms/step - loss: 0.5267 - acc: 0.8982 - val_loss: 0.5800 - val_acc: 0.8721 - lr: 0.0082\n",
      "Epoch 51/500\n",
      "32/32 [==============================] - 0s 6ms/step - loss: 0.5253 - acc: 0.9012 - val_loss: 0.5743 - val_acc: 0.8904 - lr: 0.0081\n",
      "Epoch 52/500\n",
      "32/32 [==============================] - 0s 6ms/step - loss: 0.5220 - acc: 0.8973 - val_loss: 0.5838 - val_acc: 0.8767 - lr: 0.0081\n",
      "Epoch 53/500\n",
      "32/32 [==============================] - 0s 6ms/step - loss: 0.5214 - acc: 0.8963 - val_loss: 0.5748 - val_acc: 0.8767 - lr: 0.0081\n",
      "Epoch 54/500\n",
      "32/32 [==============================] - 0s 8ms/step - loss: 0.5203 - acc: 0.9002 - val_loss: 0.5693 - val_acc: 0.8950 - lr: 0.0080\n",
      "Epoch 55/500\n",
      "32/32 [==============================] - 0s 9ms/step - loss: 0.5162 - acc: 0.9012 - val_loss: 0.5729 - val_acc: 0.8767 - lr: 0.0080\n",
      "Epoch 56/500\n",
      "32/32 [==============================] - 0s 8ms/step - loss: 0.5187 - acc: 0.9002 - val_loss: 0.5662 - val_acc: 0.8858 - lr: 0.0079\n",
      "Epoch 57/500\n",
      "32/32 [==============================] - 0s 8ms/step - loss: 0.5140 - acc: 0.9012 - val_loss: 0.5636 - val_acc: 0.8950 - lr: 0.0079\n",
      "Epoch 58/500\n",
      "32/32 [==============================] - 0s 12ms/step - loss: 0.5137 - acc: 0.8992 - val_loss: 0.5654 - val_acc: 0.8767 - lr: 0.0079\n",
      "Epoch 59/500\n",
      "32/32 [==============================] - 0s 6ms/step - loss: 0.5083 - acc: 0.9002 - val_loss: 0.5621 - val_acc: 0.8995 - lr: 0.0078\n",
      "Epoch 60/500\n",
      "32/32 [==============================] - 0s 9ms/step - loss: 0.5101 - acc: 0.8992 - val_loss: 0.5667 - val_acc: 0.8813 - lr: 0.0078\n",
      "Epoch 61/500\n",
      "32/32 [==============================] - 0s 6ms/step - loss: 0.5072 - acc: 0.9041 - val_loss: 0.5580 - val_acc: 0.8950 - lr: 0.0077\n",
      "Epoch 62/500\n",
      "32/32 [==============================] - 0s 6ms/step - loss: 0.5058 - acc: 0.9031 - val_loss: 0.5591 - val_acc: 0.8858 - lr: 0.0077\n",
      "Epoch 63/500\n",
      "32/32 [==============================] - 0s 8ms/step - loss: 0.5037 - acc: 0.9002 - val_loss: 0.5551 - val_acc: 0.8995 - lr: 0.0077\n",
      "Epoch 64/500\n",
      "32/32 [==============================] - 0s 6ms/step - loss: 0.4999 - acc: 0.8982 - val_loss: 0.5546 - val_acc: 0.8950 - lr: 0.0076\n",
      "Epoch 65/500\n",
      "32/32 [==============================] - 0s 5ms/step - loss: 0.5016 - acc: 0.9012 - val_loss: 0.5550 - val_acc: 0.9041 - lr: 0.0076\n",
      "Epoch 66/500\n",
      "32/32 [==============================] - 0s 8ms/step - loss: 0.5013 - acc: 0.9031 - val_loss: 0.5512 - val_acc: 0.8995 - lr: 0.0076\n",
      "Epoch 67/500\n",
      "32/32 [==============================] - 0s 6ms/step - loss: 0.4978 - acc: 0.9012 - val_loss: 0.5541 - val_acc: 0.8858 - lr: 0.0075\n",
      "Epoch 68/500\n",
      "32/32 [==============================] - 0s 7ms/step - loss: 0.4968 - acc: 0.8953 - val_loss: 0.5584 - val_acc: 0.8767 - lr: 0.0075\n",
      "Epoch 69/500\n",
      "32/32 [==============================] - 0s 8ms/step - loss: 0.4947 - acc: 0.9002 - val_loss: 0.5484 - val_acc: 0.8950 - lr: 0.0074\n",
      "Epoch 70/500\n",
      "32/32 [==============================] - 0s 10ms/step - loss: 0.4936 - acc: 0.9031 - val_loss: 0.5529 - val_acc: 0.8721 - lr: 0.0074\n",
      "Epoch 71/500\n",
      "32/32 [==============================] - 0s 9ms/step - loss: 0.4913 - acc: 0.9002 - val_loss: 0.5529 - val_acc: 0.8995 - lr: 0.0074\n",
      "Epoch 72/500\n",
      "32/32 [==============================] - 0s 7ms/step - loss: 0.4940 - acc: 0.8963 - val_loss: 0.5522 - val_acc: 0.8767 - lr: 0.0073\n",
      "Epoch 73/500\n",
      "32/32 [==============================] - 0s 6ms/step - loss: 0.4910 - acc: 0.9002 - val_loss: 0.5462 - val_acc: 0.8904 - lr: 0.0073\n",
      "Epoch 74/500\n",
      "32/32 [==============================] - 0s 6ms/step - loss: 0.4887 - acc: 0.9031 - val_loss: 0.5422 - val_acc: 0.8995 - lr: 0.0073\n",
      "Epoch 75/500\n",
      "32/32 [==============================] - 0s 8ms/step - loss: 0.4881 - acc: 0.9031 - val_loss: 0.5506 - val_acc: 0.8721 - lr: 0.0072\n",
      "Epoch 76/500\n",
      "32/32 [==============================] - 0s 10ms/step - loss: 0.4856 - acc: 0.9051 - val_loss: 0.5397 - val_acc: 0.8995 - lr: 0.0072\n",
      "Epoch 77/500\n",
      "32/32 [==============================] - 0s 8ms/step - loss: 0.4855 - acc: 0.9051 - val_loss: 0.5388 - val_acc: 0.8995 - lr: 0.0072\n",
      "Epoch 78/500\n",
      "32/32 [==============================] - 0s 11ms/step - loss: 0.4842 - acc: 0.9051 - val_loss: 0.5384 - val_acc: 0.8995 - lr: 0.0071\n",
      "Epoch 79/500\n",
      "32/32 [==============================] - 0s 7ms/step - loss: 0.4822 - acc: 0.9100 - val_loss: 0.5406 - val_acc: 0.8904 - lr: 0.0071\n",
      "Epoch 80/500\n",
      "32/32 [==============================] - 0s 8ms/step - loss: 0.4836 - acc: 0.9090 - val_loss: 0.5396 - val_acc: 0.8904 - lr: 0.0070\n",
      "Epoch 81/500\n",
      "32/32 [==============================] - 0s 6ms/step - loss: 0.4810 - acc: 0.9031 - val_loss: 0.5368 - val_acc: 0.8904 - lr: 0.0070\n",
      "Epoch 82/500\n",
      "32/32 [==============================] - 0s 7ms/step - loss: 0.4769 - acc: 0.9061 - val_loss: 0.5345 - val_acc: 0.8995 - lr: 0.0070\n",
      "Epoch 83/500\n",
      "32/32 [==============================] - 0s 9ms/step - loss: 0.4794 - acc: 0.9051 - val_loss: 0.5339 - val_acc: 0.8950 - lr: 0.0069\n",
      "Epoch 84/500\n",
      "32/32 [==============================] - 0s 7ms/step - loss: 0.4766 - acc: 0.9041 - val_loss: 0.5339 - val_acc: 0.8995 - lr: 0.0069\n",
      "Epoch 85/500\n",
      "32/32 [==============================] - 0s 8ms/step - loss: 0.4778 - acc: 0.9031 - val_loss: 0.5318 - val_acc: 0.8995 - lr: 0.0069\n",
      "Epoch 86/500\n",
      "32/32 [==============================] - 0s 7ms/step - loss: 0.4754 - acc: 0.9061 - val_loss: 0.5314 - val_acc: 0.8950 - lr: 0.0068\n",
      "Epoch 87/500\n",
      "32/32 [==============================] - 0s 6ms/step - loss: 0.4740 - acc: 0.9051 - val_loss: 0.5309 - val_acc: 0.8904 - lr: 0.0068\n",
      "Epoch 88/500\n",
      "32/32 [==============================] - 0s 6ms/step - loss: 0.4735 - acc: 0.9012 - val_loss: 0.5317 - val_acc: 0.8858 - lr: 0.0068\n",
      "Epoch 89/500\n",
      "32/32 [==============================] - 0s 7ms/step - loss: 0.4730 - acc: 0.9012 - val_loss: 0.5299 - val_acc: 0.8858 - lr: 0.0067\n",
      "Epoch 90/500\n",
      "32/32 [==============================] - 0s 6ms/step - loss: 0.4701 - acc: 0.9051 - val_loss: 0.5294 - val_acc: 0.8858 - lr: 0.0067\n"
     ]
    }
   ],
   "source": [
    "#Always run the following two line together\n",
    "model = nnetwork(32,32,32) \n",
    "model,model_hist = train(model,X_train,y_train,X_val,y_val,num_epochs = 500,batch_size = 32,lr_initial = 0.01,momentum = 0.5,patience_value = 25)"
   ]
  },
  {
   "cell_type": "code",
   "execution_count": 32,
   "metadata": {},
   "outputs": [
    {
     "data": {
      "image/png": "[encoded data removed]",
      "text/plain": [
       "<Figure size 432x288 with 1 Axes>"
      ]
     },
     "metadata": {
      "needs_background": "light"
     },
     "output_type": "display_data"
    }
   ],
   "source": [
    "plt.plot(model_hist.history['loss'])\n",
    "plt.plot(model_hist.history['val_loss'])\n",
    "plt.title('Model loss')\n",
    "plt.ylabel('Loss')\n",
    "plt.xlabel('Epoch')\n",
    "plt.legend(['Train', 'Val'], loc='upper right')\n",
    "plt.savefig('part5_l1_loss_vs_epochs.png')\n",
    "# plt.show()"
   ]
  },
  {
   "cell_type": "code",
   "execution_count": 33,
   "metadata": {},
   "outputs": [
    {
     "data": {
      "image/png": "[encoded data removed]",
      "text/plain": [
       "<Figure size 432x288 with 1 Axes>"
      ]
     },
     "metadata": {
      "needs_background": "light"
     },
     "output_type": "display_data"
    }
   ],
   "source": [
    "plt.plot(model_hist.history['acc'])\n",
    "plt.plot(model_hist.history['val_acc'])\n",
    "plt.title('Model accuracy')\n",
    "plt.ylabel('Accuracy')\n",
    "plt.xlabel('Epoch')\n",
    "plt.legend(['Train', 'Val'], loc='lower right')\n",
    "plt.savefig('part5_l1_acc_vs_epochs.png')\n",
    "# plt.show()"
   ]
  },
  {
   "cell_type": "code",
   "execution_count": null,
   "metadata": {},
   "outputs": [],
   "source": []
  }
 ],
 "metadata": {
  "kernelspec": {
   "display_name": "Python 3.9.0 64-bit",
   "language": "python",
   "name": "python3"
  },
  "language_info": {
   "codemirror_mode": {
    "name": "ipython",
    "version": 3
   },
   "file_extension": ".py",
   "mimetype": "text/x-python",
   "name": "python",
   "nbconvert_exporter": "python",
   "pygments_lexer": "ipython3",
   "version": "3.9.0"
  },
  "orig_nbformat": 4,
  "vscode": {
   "interpreter": {
    "hash": "8f8cf99212f81ad0c4765861267244807ee1c18364846cdce387b28994a977ba"
   }
  }
 },
 "nbformat": 4,
 "nbformat_minor": 2
}
