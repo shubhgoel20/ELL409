{
 "cells": [
  {
   "cell_type": "code",
   "execution_count": 2,
   "metadata": {},
   "outputs": [],
   "source": [
    "import tensorflow as tf\n",
    "from tensorflow.keras.models import Sequential\n",
    "from tensorflow.keras.layers import Dense,Dropout\n",
    "from tensorflow.keras.callbacks import ModelCheckpoint,LearningRateScheduler,EarlyStopping\n",
    "from sklearn import preprocessing\n",
    "from sklearn.model_selection import train_test_split\n",
    "import numpy as np\n",
    "import pandas as pd\n",
    "import matplotlib.pyplot as plt"
   ]
  },
  {
   "cell_type": "code",
   "execution_count": 4,
   "metadata": {},
   "outputs": [],
   "source": [
    "def preprocess(df):\n",
    "    data = df.values\n",
    "    X = data[:,0:10]\n",
    "    y = data[:,10]\n",
    "    #we have to scale the features to a common range\n",
    "    #we are using min-max scaler instead of standardscaler because min-max scaler preserves the distribution of the data\n",
    "    #Add the formula for min-max scaler in the report\n",
    "    X = preprocessing.MinMaxScaler().fit_transform(X)\n",
    "    return X,y"
   ]
  },
  {
   "cell_type": "code",
   "execution_count": 5,
   "metadata": {},
   "outputs": [],
   "source": [
    "def split(X,y):\n",
    "    X_train, temp_x, y_train, temp_y = train_test_split(X, y, test_size=0.3)\n",
    "    X_val, X_test, y_val, y_test = train_test_split(temp_x, temp_y, test_size=0.5)\n",
    "    return X_train,X_val,X_test,y_train,y_val,y_test"
   ]
  },
  {
   "cell_type": "code",
   "execution_count": 21,
   "metadata": {},
   "outputs": [],
   "source": [
    "def nnetwork(n1 = 32,n2 = 32,n3 = 32,n4 = 32):\n",
    "    model = Sequential()\n",
    "    model.add(Dense(n1,activation = 'relu',input_shape = (10,))) #The weight matrix is initialised using the default initializer 'glorot_uniform'\n",
    "    model.add(Dense(n2,activation = 'relu',kernel_regularizer=tf.keras.regularizers.L2(0.01)))\n",
    "    model.add(Dense(n3,activation = 'relu',kernel_regularizer=tf.keras.regularizers.L2(0.01)))\n",
    "    model.add(Dense(n4,activation = 'relu',kernel_regularizer=tf.keras.regularizers.L2(0.01)))\n",
    "    model.add(Dense(1,activation = 'sigmoid'))\n",
    "    # model.summary()\n",
    "    return model    "
   ]
  },
  {
   "cell_type": "code",
   "execution_count": 22,
   "metadata": {},
   "outputs": [],
   "source": [
    "#This is for learning rate scheduler.\n",
    "#decay_rate is hyperparameter that we need to optimize\n",
    "#we can use different typer decays:\n",
    "# time based decay: lr = lr/(1 + decay_rate*epoch)\n",
    "# step decay: lr = lr0*drop^(floor(epoch/epoch_drop))\n",
    "#The following is exponential decay:\n",
    "def schedule(epoch,lr,decay_rate = 0.005):\n",
    "    if(epoch < 10):\n",
    "        return lr\n",
    "    # lr_new = lr*np.exp(-decay_rate*epoch)\n",
    "    lr_new = lr*np.exp(-decay_rate)\n",
    "    # lr_new = lr/(1 + decay_rate*epoch)\n",
    "    return lr_new"
   ]
  },
  {
   "cell_type": "code",
   "execution_count": 23,
   "metadata": {},
   "outputs": [],
   "source": [
    "def train(model,X_train,y_train,X_val,y_val,num_epochs = 500,batch_size = 32,lr_initial = 0.001,momentum = 0.5,patience_value = 7):\n",
    "    tf.keras.backend.clear_session()\n",
    "    callbacks = [EarlyStopping(monitor='val_acc', patience=patience_value),LearningRateScheduler(schedule)]\n",
    "    model.compile(loss='binary_crossentropy', optimizer=tf.keras.optimizers.SGD(learning_rate=lr_initial,momentum= momentum),metrics=['acc'])\n",
    "    model_history=model.fit(X_train, y_train, batch_size=batch_size, epochs=num_epochs, validation_data=(X_val, y_val),\n",
    "                        callbacks=callbacks)\n",
    "    return model,model_history"
   ]
  },
  {
   "cell_type": "code",
   "execution_count": 9,
   "metadata": {},
   "outputs": [],
   "source": [
    "df = pd.read_csv('housepricedata.csv')"
   ]
  },
  {
   "cell_type": "code",
   "execution_count": null,
   "metadata": {},
   "outputs": [],
   "source": [
    "np.random.seed(42)"
   ]
  },
  {
   "cell_type": "code",
   "execution_count": 10,
   "metadata": {},
   "outputs": [],
   "source": [
    "X,y = preprocess(df)"
   ]
  },
  {
   "cell_type": "code",
   "execution_count": 11,
   "metadata": {},
   "outputs": [],
   "source": [
    "X_train,X_val,X_test,y_train,y_val,y_test = split(X,y)"
   ]
  },
  {
   "cell_type": "code",
   "execution_count": 12,
   "metadata": {},
   "outputs": [
    {
     "name": "stdout",
     "output_type": "stream",
     "text": [
      "(1022, 10) (219, 10) (219, 10) (1022,) (219,) (219,)\n"
     ]
    }
   ],
   "source": [
    "print(X_train.shape, X_val.shape, X_test.shape, y_train.shape, y_val.shape, y_test.shape)"
   ]
  },
  {
   "cell_type": "code",
   "execution_count": 28,
   "metadata": {},
   "outputs": [
    {
     "name": "stdout",
     "output_type": "stream",
     "text": [
      "Epoch 1/500\n",
      "32/32 [==============================] - 4s 109ms/step - loss: 1.4100 - acc: 0.5029 - val_loss: 1.3945 - val_acc: 0.4566 - lr: 0.0100\n",
      "Epoch 2/500\n",
      "32/32 [==============================] - 0s 8ms/step - loss: 1.3818 - acc: 0.5411 - val_loss: 1.3722 - val_acc: 0.4795 - lr: 0.0100\n",
      "Epoch 3/500\n",
      "32/32 [==============================] - 0s 7ms/step - loss: 1.3591 - acc: 0.5323 - val_loss: 1.3507 - val_acc: 0.5982 - lr: 0.0100\n",
      "Epoch 4/500\n",
      "32/32 [==============================] - 0s 7ms/step - loss: 1.3385 - acc: 0.6106 - val_loss: 1.3303 - val_acc: 0.5753 - lr: 0.0100\n",
      "Epoch 5/500\n",
      "32/32 [==============================] - 0s 6ms/step - loss: 1.3178 - acc: 0.6292 - val_loss: 1.3096 - val_acc: 0.6621 - lr: 0.0100\n",
      "Epoch 6/500\n",
      "32/32 [==============================] - 0s 7ms/step - loss: 1.2973 - acc: 0.7221 - val_loss: 1.2893 - val_acc: 0.6941 - lr: 0.0100\n",
      "Epoch 7/500\n",
      "32/32 [==============================] - 0s 6ms/step - loss: 1.2772 - acc: 0.7554 - val_loss: 1.2694 - val_acc: 0.7123 - lr: 0.0100\n",
      "Epoch 8/500\n",
      "32/32 [==============================] - 0s 6ms/step - loss: 1.2571 - acc: 0.7789 - val_loss: 1.2489 - val_acc: 0.7763 - lr: 0.0100\n",
      "Epoch 9/500\n",
      "32/32 [==============================] - 0s 6ms/step - loss: 1.2368 - acc: 0.7857 - val_loss: 1.2275 - val_acc: 0.7945 - lr: 0.0100\n",
      "Epoch 10/500\n",
      "32/32 [==============================] - 0s 6ms/step - loss: 1.2159 - acc: 0.8043 - val_loss: 1.2062 - val_acc: 0.7945 - lr: 0.0100\n",
      "Epoch 11/500\n",
      "32/32 [==============================] - 0s 6ms/step - loss: 1.1938 - acc: 0.8180 - val_loss: 1.1842 - val_acc: 0.7945 - lr: 0.0100\n",
      "Epoch 12/500\n",
      "32/32 [==============================] - 0s 6ms/step - loss: 1.1711 - acc: 0.8229 - val_loss: 1.1599 - val_acc: 0.7991 - lr: 0.0099\n",
      "Epoch 13/500\n",
      "32/32 [==============================] - 0s 6ms/step - loss: 1.1471 - acc: 0.8258 - val_loss: 1.1340 - val_acc: 0.8219 - lr: 0.0099\n",
      "Epoch 14/500\n",
      "32/32 [==============================] - 0s 6ms/step - loss: 1.1216 - acc: 0.8317 - val_loss: 1.1074 - val_acc: 0.8311 - lr: 0.0098\n",
      "Epoch 15/500\n",
      "32/32 [==============================] - 0s 6ms/step - loss: 1.0944 - acc: 0.8356 - val_loss: 1.0800 - val_acc: 0.8219 - lr: 0.0098\n",
      "Epoch 16/500\n",
      "32/32 [==============================] - 0s 6ms/step - loss: 1.0650 - acc: 0.8395 - val_loss: 1.0465 - val_acc: 0.8584 - lr: 0.0097\n",
      "Epoch 17/500\n",
      "32/32 [==============================] - 0s 7ms/step - loss: 1.0337 - acc: 0.8405 - val_loss: 1.0127 - val_acc: 0.8813 - lr: 0.0097\n",
      "Epoch 18/500\n",
      "32/32 [==============================] - 0s 7ms/step - loss: 0.9999 - acc: 0.8434 - val_loss: 0.9770 - val_acc: 0.8767 - lr: 0.0096\n",
      "Epoch 19/500\n",
      "32/32 [==============================] - 0s 7ms/step - loss: 0.9657 - acc: 0.8425 - val_loss: 0.9413 - val_acc: 0.8767 - lr: 0.0096\n",
      "Epoch 20/500\n",
      "32/32 [==============================] - 0s 6ms/step - loss: 0.9315 - acc: 0.8493 - val_loss: 0.9077 - val_acc: 0.8858 - lr: 0.0095\n",
      "Epoch 21/500\n",
      "32/32 [==============================] - 0s 6ms/step - loss: 0.8999 - acc: 0.8513 - val_loss: 0.8742 - val_acc: 0.8904 - lr: 0.0095\n",
      "Epoch 22/500\n",
      "32/32 [==============================] - 0s 6ms/step - loss: 0.8701 - acc: 0.8591 - val_loss: 0.8466 - val_acc: 0.8904 - lr: 0.0094\n",
      "Epoch 23/500\n",
      "32/32 [==============================] - 0s 8ms/step - loss: 0.8449 - acc: 0.8562 - val_loss: 0.8188 - val_acc: 0.8813 - lr: 0.0094\n",
      "Epoch 24/500\n",
      "32/32 [==============================] - 0s 7ms/step - loss: 0.8209 - acc: 0.8562 - val_loss: 0.7950 - val_acc: 0.8813 - lr: 0.0093\n",
      "Epoch 25/500\n",
      "32/32 [==============================] - 0s 6ms/step - loss: 0.7991 - acc: 0.8630 - val_loss: 0.7755 - val_acc: 0.8858 - lr: 0.0093\n",
      "Epoch 26/500\n",
      "32/32 [==============================] - 0s 7ms/step - loss: 0.7811 - acc: 0.8640 - val_loss: 0.7588 - val_acc: 0.8813 - lr: 0.0092\n",
      "Epoch 27/500\n",
      "32/32 [==============================] - 0s 6ms/step - loss: 0.7655 - acc: 0.8708 - val_loss: 0.7442 - val_acc: 0.8858 - lr: 0.0092\n",
      "Epoch 28/500\n",
      "32/32 [==============================] - 0s 7ms/step - loss: 0.7506 - acc: 0.8650 - val_loss: 0.7336 - val_acc: 0.8858 - lr: 0.0091\n",
      "Epoch 29/500\n",
      "32/32 [==============================] - 0s 6ms/step - loss: 0.7382 - acc: 0.8620 - val_loss: 0.7134 - val_acc: 0.8721 - lr: 0.0091\n",
      "Epoch 30/500\n",
      "32/32 [==============================] - 0s 6ms/step - loss: 0.7251 - acc: 0.8767 - val_loss: 0.7006 - val_acc: 0.8721 - lr: 0.0090\n",
      "Epoch 31/500\n",
      "32/32 [==============================] - 0s 7ms/step - loss: 0.7132 - acc: 0.8718 - val_loss: 0.6895 - val_acc: 0.8767 - lr: 0.0090\n",
      "Epoch 32/500\n",
      "32/32 [==============================] - 0s 6ms/step - loss: 0.7036 - acc: 0.8708 - val_loss: 0.6776 - val_acc: 0.8904 - lr: 0.0090\n",
      "Epoch 33/500\n",
      "32/32 [==============================] - 0s 6ms/step - loss: 0.6935 - acc: 0.8669 - val_loss: 0.6665 - val_acc: 0.8950 - lr: 0.0089\n",
      "Epoch 34/500\n",
      "32/32 [==============================] - 0s 6ms/step - loss: 0.6833 - acc: 0.8757 - val_loss: 0.6605 - val_acc: 0.8767 - lr: 0.0089\n",
      "Epoch 35/500\n",
      "32/32 [==============================] - 0s 6ms/step - loss: 0.6747 - acc: 0.8679 - val_loss: 0.6490 - val_acc: 0.8858 - lr: 0.0088\n",
      "Epoch 36/500\n",
      "32/32 [==============================] - 0s 6ms/step - loss: 0.6651 - acc: 0.8757 - val_loss: 0.6371 - val_acc: 0.8995 - lr: 0.0088\n",
      "Epoch 37/500\n",
      "32/32 [==============================] - 0s 5ms/step - loss: 0.6572 - acc: 0.8738 - val_loss: 0.6352 - val_acc: 0.8995 - lr: 0.0087\n",
      "Epoch 38/500\n",
      "32/32 [==============================] - 0s 6ms/step - loss: 0.6497 - acc: 0.8767 - val_loss: 0.6202 - val_acc: 0.8995 - lr: 0.0087\n",
      "Epoch 39/500\n",
      "32/32 [==============================] - 0s 6ms/step - loss: 0.6413 - acc: 0.8796 - val_loss: 0.6156 - val_acc: 0.8858 - lr: 0.0087\n",
      "Epoch 40/500\n",
      "32/32 [==============================] - 0s 6ms/step - loss: 0.6334 - acc: 0.8777 - val_loss: 0.6063 - val_acc: 0.8950 - lr: 0.0086\n",
      "Epoch 41/500\n",
      "32/32 [==============================] - 0s 7ms/step - loss: 0.6235 - acc: 0.8738 - val_loss: 0.5969 - val_acc: 0.9041 - lr: 0.0086\n",
      "Epoch 42/500\n",
      "32/32 [==============================] - 0s 6ms/step - loss: 0.6183 - acc: 0.8748 - val_loss: 0.5884 - val_acc: 0.9041 - lr: 0.0085\n",
      "Epoch 43/500\n",
      "32/32 [==============================] - 0s 6ms/step - loss: 0.6153 - acc: 0.8748 - val_loss: 0.5809 - val_acc: 0.9087 - lr: 0.0085\n",
      "Epoch 44/500\n",
      "32/32 [==============================] - 0s 5ms/step - loss: 0.6031 - acc: 0.8865 - val_loss: 0.5748 - val_acc: 0.9041 - lr: 0.0084\n",
      "Epoch 45/500\n",
      "32/32 [==============================] - 0s 6ms/step - loss: 0.6000 - acc: 0.8836 - val_loss: 0.5677 - val_acc: 0.9087 - lr: 0.0084\n",
      "Epoch 46/500\n",
      "32/32 [==============================] - 0s 6ms/step - loss: 0.5921 - acc: 0.8767 - val_loss: 0.5620 - val_acc: 0.9087 - lr: 0.0084\n",
      "Epoch 47/500\n",
      "32/32 [==============================] - 0s 6ms/step - loss: 0.5860 - acc: 0.8806 - val_loss: 0.5553 - val_acc: 0.9087 - lr: 0.0083\n",
      "Epoch 48/500\n",
      "32/32 [==============================] - 0s 6ms/step - loss: 0.5787 - acc: 0.8738 - val_loss: 0.5537 - val_acc: 0.9087 - lr: 0.0083\n",
      "Epoch 49/500\n",
      "32/32 [==============================] - 0s 5ms/step - loss: 0.5756 - acc: 0.8826 - val_loss: 0.5461 - val_acc: 0.9132 - lr: 0.0082\n",
      "Epoch 50/500\n",
      "32/32 [==============================] - 0s 6ms/step - loss: 0.5683 - acc: 0.8777 - val_loss: 0.5405 - val_acc: 0.9132 - lr: 0.0082\n",
      "Epoch 51/500\n",
      "32/32 [==============================] - 0s 6ms/step - loss: 0.5620 - acc: 0.8845 - val_loss: 0.5312 - val_acc: 0.9087 - lr: 0.0081\n",
      "Epoch 52/500\n",
      "32/32 [==============================] - 0s 6ms/step - loss: 0.5574 - acc: 0.8816 - val_loss: 0.5257 - val_acc: 0.9087 - lr: 0.0081\n",
      "Epoch 53/500\n",
      "32/32 [==============================] - 0s 5ms/step - loss: 0.5545 - acc: 0.8777 - val_loss: 0.5240 - val_acc: 0.9132 - lr: 0.0081\n",
      "Epoch 54/500\n",
      "32/32 [==============================] - 0s 5ms/step - loss: 0.5484 - acc: 0.8806 - val_loss: 0.5153 - val_acc: 0.9087 - lr: 0.0080\n",
      "Epoch 55/500\n",
      "32/32 [==============================] - 0s 5ms/step - loss: 0.5448 - acc: 0.8757 - val_loss: 0.5113 - val_acc: 0.9087 - lr: 0.0080\n",
      "Epoch 56/500\n",
      "32/32 [==============================] - 0s 6ms/step - loss: 0.5384 - acc: 0.8865 - val_loss: 0.5054 - val_acc: 0.9041 - lr: 0.0079\n",
      "Epoch 57/500\n",
      "32/32 [==============================] - 0s 6ms/step - loss: 0.5364 - acc: 0.8767 - val_loss: 0.5015 - val_acc: 0.9087 - lr: 0.0079\n",
      "Epoch 58/500\n",
      "32/32 [==============================] - 0s 5ms/step - loss: 0.5319 - acc: 0.8836 - val_loss: 0.4967 - val_acc: 0.9087 - lr: 0.0079\n",
      "Epoch 59/500\n",
      "32/32 [==============================] - 0s 5ms/step - loss: 0.5293 - acc: 0.8757 - val_loss: 0.4931 - val_acc: 0.9087 - lr: 0.0078\n",
      "Epoch 60/500\n",
      "32/32 [==============================] - 0s 5ms/step - loss: 0.5220 - acc: 0.8767 - val_loss: 0.4878 - val_acc: 0.9041 - lr: 0.0078\n",
      "Epoch 61/500\n",
      "32/32 [==============================] - 0s 6ms/step - loss: 0.5192 - acc: 0.8826 - val_loss: 0.4848 - val_acc: 0.9087 - lr: 0.0077\n",
      "Epoch 62/500\n",
      "32/32 [==============================] - 0s 7ms/step - loss: 0.5153 - acc: 0.8875 - val_loss: 0.4862 - val_acc: 0.9087 - lr: 0.0077\n",
      "Epoch 63/500\n",
      "32/32 [==============================] - 0s 6ms/step - loss: 0.5113 - acc: 0.8865 - val_loss: 0.4754 - val_acc: 0.9087 - lr: 0.0077\n",
      "Epoch 64/500\n",
      "32/32 [==============================] - 0s 6ms/step - loss: 0.5081 - acc: 0.8855 - val_loss: 0.4772 - val_acc: 0.9178 - lr: 0.0076\n",
      "Epoch 65/500\n",
      "32/32 [==============================] - 0s 5ms/step - loss: 0.5042 - acc: 0.8826 - val_loss: 0.4769 - val_acc: 0.9087 - lr: 0.0076\n",
      "Epoch 66/500\n",
      "32/32 [==============================] - 0s 6ms/step - loss: 0.4995 - acc: 0.8826 - val_loss: 0.4652 - val_acc: 0.9087 - lr: 0.0076\n",
      "Epoch 67/500\n",
      "32/32 [==============================] - 0s 7ms/step - loss: 0.4961 - acc: 0.8826 - val_loss: 0.4637 - val_acc: 0.9178 - lr: 0.0075\n",
      "Epoch 68/500\n",
      "32/32 [==============================] - 0s 8ms/step - loss: 0.4934 - acc: 0.8796 - val_loss: 0.4576 - val_acc: 0.9087 - lr: 0.0075\n",
      "Epoch 69/500\n",
      "32/32 [==============================] - 0s 5ms/step - loss: 0.4905 - acc: 0.8845 - val_loss: 0.4548 - val_acc: 0.9087 - lr: 0.0074\n",
      "Epoch 70/500\n",
      "32/32 [==============================] - 0s 6ms/step - loss: 0.4845 - acc: 0.8836 - val_loss: 0.4504 - val_acc: 0.9087 - lr: 0.0074\n",
      "Epoch 71/500\n",
      "32/32 [==============================] - 0s 6ms/step - loss: 0.4820 - acc: 0.8855 - val_loss: 0.4473 - val_acc: 0.9087 - lr: 0.0074\n",
      "Epoch 72/500\n",
      "32/32 [==============================] - 0s 7ms/step - loss: 0.4802 - acc: 0.8845 - val_loss: 0.4444 - val_acc: 0.9087 - lr: 0.0073\n",
      "Epoch 73/500\n",
      "32/32 [==============================] - 0s 7ms/step - loss: 0.4774 - acc: 0.8806 - val_loss: 0.4436 - val_acc: 0.9132 - lr: 0.0073\n",
      "Epoch 74/500\n",
      "32/32 [==============================] - 0s 7ms/step - loss: 0.4736 - acc: 0.8806 - val_loss: 0.4434 - val_acc: 0.9178 - lr: 0.0073\n",
      "Epoch 75/500\n",
      "32/32 [==============================] - 0s 7ms/step - loss: 0.4716 - acc: 0.8806 - val_loss: 0.4362 - val_acc: 0.9132 - lr: 0.0072\n",
      "Epoch 76/500\n",
      "32/32 [==============================] - 0s 6ms/step - loss: 0.4686 - acc: 0.8796 - val_loss: 0.4335 - val_acc: 0.9132 - lr: 0.0072\n",
      "Epoch 77/500\n",
      "32/32 [==============================] - 0s 7ms/step - loss: 0.4659 - acc: 0.8845 - val_loss: 0.4292 - val_acc: 0.9132 - lr: 0.0072\n",
      "Epoch 78/500\n",
      "32/32 [==============================] - 0s 7ms/step - loss: 0.4619 - acc: 0.8845 - val_loss: 0.4265 - val_acc: 0.9132 - lr: 0.0071\n",
      "Epoch 79/500\n",
      "32/32 [==============================] - 0s 6ms/step - loss: 0.4610 - acc: 0.8865 - val_loss: 0.4243 - val_acc: 0.9178 - lr: 0.0071\n",
      "Epoch 80/500\n",
      "32/32 [==============================] - 0s 6ms/step - loss: 0.4573 - acc: 0.8816 - val_loss: 0.4220 - val_acc: 0.9087 - lr: 0.0070\n",
      "Epoch 81/500\n",
      "32/32 [==============================] - 0s 7ms/step - loss: 0.4548 - acc: 0.8836 - val_loss: 0.4212 - val_acc: 0.9132 - lr: 0.0070\n",
      "Epoch 82/500\n",
      "32/32 [==============================] - 0s 7ms/step - loss: 0.4540 - acc: 0.8845 - val_loss: 0.4162 - val_acc: 0.9132 - lr: 0.0070\n",
      "Epoch 83/500\n",
      "32/32 [==============================] - 0s 5ms/step - loss: 0.4517 - acc: 0.8836 - val_loss: 0.4139 - val_acc: 0.9132 - lr: 0.0069\n",
      "Epoch 84/500\n",
      "32/32 [==============================] - 0s 7ms/step - loss: 0.4483 - acc: 0.8816 - val_loss: 0.4113 - val_acc: 0.9087 - lr: 0.0069\n",
      "Epoch 85/500\n",
      "32/32 [==============================] - 0s 6ms/step - loss: 0.4473 - acc: 0.8855 - val_loss: 0.4090 - val_acc: 0.9087 - lr: 0.0069\n",
      "Epoch 86/500\n",
      "32/32 [==============================] - 0s 7ms/step - loss: 0.4423 - acc: 0.8836 - val_loss: 0.4076 - val_acc: 0.9132 - lr: 0.0068\n",
      "Epoch 87/500\n",
      "32/32 [==============================] - 0s 6ms/step - loss: 0.4415 - acc: 0.8845 - val_loss: 0.4087 - val_acc: 0.9224 - lr: 0.0068\n",
      "Epoch 88/500\n",
      "32/32 [==============================] - 0s 5ms/step - loss: 0.4380 - acc: 0.8806 - val_loss: 0.4120 - val_acc: 0.9178 - lr: 0.0068\n",
      "Epoch 89/500\n",
      "32/32 [==============================] - 0s 6ms/step - loss: 0.4370 - acc: 0.8806 - val_loss: 0.4023 - val_acc: 0.9132 - lr: 0.0067\n",
      "Epoch 90/500\n",
      "32/32 [==============================] - 0s 6ms/step - loss: 0.4353 - acc: 0.8865 - val_loss: 0.3981 - val_acc: 0.9087 - lr: 0.0067\n",
      "Epoch 91/500\n",
      "32/32 [==============================] - 0s 6ms/step - loss: 0.4315 - acc: 0.8865 - val_loss: 0.3980 - val_acc: 0.9132 - lr: 0.0067\n",
      "Epoch 92/500\n",
      "32/32 [==============================] - 0s 6ms/step - loss: 0.4316 - acc: 0.8826 - val_loss: 0.3945 - val_acc: 0.9087 - lr: 0.0066\n",
      "Epoch 93/500\n",
      "32/32 [==============================] - 0s 5ms/step - loss: 0.4279 - acc: 0.8845 - val_loss: 0.3939 - val_acc: 0.9132 - lr: 0.0066\n",
      "Epoch 94/500\n",
      "32/32 [==============================] - 0s 5ms/step - loss: 0.4277 - acc: 0.8845 - val_loss: 0.3900 - val_acc: 0.9224 - lr: 0.0066\n",
      "Epoch 95/500\n",
      "32/32 [==============================] - 0s 5ms/step - loss: 0.4257 - acc: 0.8865 - val_loss: 0.3892 - val_acc: 0.9132 - lr: 0.0065\n",
      "Epoch 96/500\n",
      "32/32 [==============================] - 0s 5ms/step - loss: 0.4225 - acc: 0.8855 - val_loss: 0.3898 - val_acc: 0.9224 - lr: 0.0065\n",
      "Epoch 97/500\n",
      "32/32 [==============================] - 0s 6ms/step - loss: 0.4224 - acc: 0.8904 - val_loss: 0.3884 - val_acc: 0.9224 - lr: 0.0065\n",
      "Epoch 98/500\n",
      "32/32 [==============================] - 0s 6ms/step - loss: 0.4210 - acc: 0.8875 - val_loss: 0.3826 - val_acc: 0.9087 - lr: 0.0064\n",
      "Epoch 99/500\n",
      "32/32 [==============================] - 0s 5ms/step - loss: 0.4167 - acc: 0.8787 - val_loss: 0.3886 - val_acc: 0.9132 - lr: 0.0064\n",
      "Epoch 100/500\n",
      "32/32 [==============================] - 0s 6ms/step - loss: 0.4184 - acc: 0.8806 - val_loss: 0.3814 - val_acc: 0.9132 - lr: 0.0064\n",
      "Epoch 101/500\n",
      "32/32 [==============================] - 0s 5ms/step - loss: 0.4164 - acc: 0.8787 - val_loss: 0.3817 - val_acc: 0.9178 - lr: 0.0063\n",
      "Epoch 102/500\n",
      "32/32 [==============================] - 0s 5ms/step - loss: 0.4144 - acc: 0.8787 - val_loss: 0.3771 - val_acc: 0.9132 - lr: 0.0063\n",
      "Epoch 103/500\n",
      "32/32 [==============================] - 0s 6ms/step - loss: 0.4119 - acc: 0.8894 - val_loss: 0.3757 - val_acc: 0.9132 - lr: 0.0063\n",
      "Epoch 104/500\n",
      "32/32 [==============================] - 0s 6ms/step - loss: 0.4079 - acc: 0.8826 - val_loss: 0.3730 - val_acc: 0.9087 - lr: 0.0063\n",
      "Epoch 105/500\n",
      "32/32 [==============================] - 0s 5ms/step - loss: 0.4091 - acc: 0.8806 - val_loss: 0.3711 - val_acc: 0.9087 - lr: 0.0062\n",
      "Epoch 106/500\n",
      "32/32 [==============================] - 0s 5ms/step - loss: 0.4051 - acc: 0.8865 - val_loss: 0.3745 - val_acc: 0.9087 - lr: 0.0062\n",
      "Epoch 107/500\n",
      "32/32 [==============================] - 0s 5ms/step - loss: 0.4056 - acc: 0.8845 - val_loss: 0.3685 - val_acc: 0.9178 - lr: 0.0062\n",
      "Epoch 108/500\n",
      "32/32 [==============================] - 0s 5ms/step - loss: 0.4053 - acc: 0.8845 - val_loss: 0.3672 - val_acc: 0.9087 - lr: 0.0061\n",
      "Epoch 109/500\n",
      "32/32 [==============================] - 0s 5ms/step - loss: 0.4017 - acc: 0.8806 - val_loss: 0.3708 - val_acc: 0.9087 - lr: 0.0061\n",
      "Epoch 110/500\n",
      "32/32 [==============================] - 0s 6ms/step - loss: 0.4042 - acc: 0.8836 - val_loss: 0.3665 - val_acc: 0.9178 - lr: 0.0061\n",
      "Epoch 111/500\n",
      "32/32 [==============================] - 0s 5ms/step - loss: 0.4021 - acc: 0.8826 - val_loss: 0.3628 - val_acc: 0.9178 - lr: 0.0060\n",
      "Epoch 112/500\n",
      "32/32 [==============================] - 0s 6ms/step - loss: 0.3993 - acc: 0.8806 - val_loss: 0.3644 - val_acc: 0.9224 - lr: 0.0060\n"
     ]
    }
   ],
   "source": [
    "#Always run the following two line together\n",
    "model = nnetwork(16,32,32,16) \n",
    "model,model_hist = train(model,X_train,y_train,X_val,y_val,num_epochs = 500,batch_size = 32,lr_initial = 0.01,momentum = 0.5,patience_value = 25)"
   ]
  },
  {
   "cell_type": "code",
   "execution_count": 30,
   "metadata": {},
   "outputs": [
    {
     "data": {
      "image/png": "[encoded data removed]",
      "text/plain": [
       "<Figure size 432x288 with 1 Axes>"
      ]
     },
     "metadata": {
      "needs_background": "light"
     },
     "output_type": "display_data"
    }
   ],
   "source": [
    "plt.plot(model_hist.history['loss'])\n",
    "plt.plot(model_hist.history['val_loss'])\n",
    "plt.title('Model loss')\n",
    "plt.ylabel('Loss')\n",
    "plt.xlabel('Epoch')\n",
    "plt.legend(['Train', 'Val'], loc='upper right')\n",
    "plt.savefig('part6_16_32_32_16_loss_vs_epochs.png')\n",
    "# plt.show()"
   ]
  },
  {
   "cell_type": "code",
   "execution_count": 31,
   "metadata": {},
   "outputs": [
    {
     "data": {
      "image/png": "[encoded data removed]",
      "text/plain": [
       "<Figure size 432x288 with 1 Axes>"
      ]
     },
     "metadata": {
      "needs_background": "light"
     },
     "output_type": "display_data"
    }
   ],
   "source": [
    "plt.plot(model_hist.history['acc'])\n",
    "plt.plot(model_hist.history['val_acc'])\n",
    "plt.title('Model accuracy')\n",
    "plt.ylabel('Accuracy')\n",
    "plt.xlabel('Epoch')\n",
    "plt.legend(['Train', 'Val'], loc='lower right')\n",
    "plt.savefig('part6_16_32_32_16_acc_vs_epochs.png')\n",
    "# plt.show()"
   ]
  },
  {
   "cell_type": "code",
   "execution_count": null,
   "metadata": {},
   "outputs": [],
   "source": []
  }
 ],
 "metadata": {
  "kernelspec": {
   "display_name": "Python 3.9.0 64-bit",
   "language": "python",
   "name": "python3"
  },
  "language_info": {
   "codemirror_mode": {
    "name": "ipython",
    "version": 3
   },
   "file_extension": ".py",
   "mimetype": "text/x-python",
   "name": "python",
   "nbconvert_exporter": "python",
   "pygments_lexer": "ipython3",
   "version": "3.9.0"
  },
  "orig_nbformat": 4,
  "vscode": {
   "interpreter": {
    "hash": "8f8cf99212f81ad0c4765861267244807ee1c18364846cdce387b28994a977ba"
   }
  }
 },
 "nbformat": 4,
 "nbformat_minor": 2
}
